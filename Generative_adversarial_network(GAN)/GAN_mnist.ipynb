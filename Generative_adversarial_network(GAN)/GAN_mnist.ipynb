{
  "nbformat": 4,
  "nbformat_minor": 0,
  "metadata": {
    "colab": {
      "name": "GAN_mnist.ipynb",
      "provenance": []
    },
    "kernelspec": {
      "name": "python3",
      "display_name": "Python 3"
    },
    "accelerator": "GPU"
  },
  "cells": [
    {
      "cell_type": "code",
      "metadata": {
        "id": "yCR2vy2m71Tb"
      },
      "source": [
        "import tensorflow as tf\n",
        "from tensorflow import keras\n",
        "from tensorflow.keras import layers\n",
        "import numpy as np"
      ],
      "execution_count": null,
      "outputs": []
    },
    {
      "cell_type": "code",
      "metadata": {
        "colab": {
          "base_uri": "https://localhost:8080/"
        },
        "id": "mz5vuxC-8yLq",
        "outputId": "6bfdddab-fc68-4c3c-b374-e9b6f619a031"
      },
      "source": [
        "batch_size=64\n",
        "(x_train, _), (x_test, _) = keras.datasets.mnist.load_data()\n",
        "all_digits = np.concatenate([x_train, x_test])\n",
        "all_digits = all_digits.astype('float32') / 255\n",
        "all_digits = np.reshape(all_digits, (-1, 28, 28, 1))\n",
        "\n",
        "dataset = tf.data.Dataset.from_tensor_slices(all_digits)\n",
        "dataset = dataset.shuffle(buffer_size=1024).batch(batch_size).prefetch(32)"
      ],
      "execution_count": null,
      "outputs": [
        {
          "output_type": "stream",
          "text": [
            "Downloading data from https://storage.googleapis.com/tensorflow/tf-keras-datasets/mnist.npz\n",
            "11493376/11490434 [==============================] - 0s 0us/step\n"
          ],
          "name": "stdout"
        }
      ]
    },
    {
      "cell_type": "code",
      "metadata": {
        "colab": {
          "base_uri": "https://localhost:8080/"
        },
        "id": "Kax00kUr9h2e",
        "outputId": "960c6282-ed25-4e77-815b-814ccbe1f41e"
      },
      "source": [
        "discriminator = keras.Sequential(\n",
        "    [\n",
        "      keras.Input(shape=(28,28,1)),\n",
        "      layers.Conv2D(64, (3,3), strides=(2, 2), padding=\"same\"),\n",
        "      layers.LeakyReLU(alpha=0.2),\n",
        "      layers.Conv2D(128, (3,3), strides=(2, 2), padding=\"same\"),\n",
        "      layers.LeakyReLU(alpha=0.2),\n",
        "      layers.GlobalMaxPooling2D(),\n",
        "      layers.Dense(1),\n",
        "    ],\n",
        "    name=\"discriminator\",\n",
        ")\n",
        "\n",
        "discriminator.summary()"
      ],
      "execution_count": null,
      "outputs": [
        {
          "output_type": "stream",
          "text": [
            "Model: \"discriminator\"\n",
            "_________________________________________________________________\n",
            "Layer (type)                 Output Shape              Param #   \n",
            "=================================================================\n",
            "conv2d (Conv2D)              (None, 14, 14, 64)        640       \n",
            "_________________________________________________________________\n",
            "leaky_re_lu (LeakyReLU)      (None, 14, 14, 64)        0         \n",
            "_________________________________________________________________\n",
            "conv2d_1 (Conv2D)            (None, 7, 7, 128)         73856     \n",
            "_________________________________________________________________\n",
            "leaky_re_lu_1 (LeakyReLU)    (None, 7, 7, 128)         0         \n",
            "_________________________________________________________________\n",
            "global_max_pooling2d (Global (None, 128)               0         \n",
            "_________________________________________________________________\n",
            "dense (Dense)                (None, 1)                 129       \n",
            "=================================================================\n",
            "Total params: 74,625\n",
            "Trainable params: 74,625\n",
            "Non-trainable params: 0\n",
            "_________________________________________________________________\n"
          ],
          "name": "stdout"
        }
      ]
    },
    {
      "cell_type": "code",
      "metadata": {
        "colab": {
          "base_uri": "https://localhost:8080/"
        },
        "id": "5VQtCFQt_uam",
        "outputId": "723d0130-a416-4e80-b7b6-df26a8330d18"
      },
      "source": [
        "latent_dim = 128\n",
        "\n",
        "generator = keras.Sequential(\n",
        "    [\n",
        "      keras.Input(shape=(latent_dim,)),\n",
        "      layers.Dense(7*7*128),\n",
        "      layers.LeakyReLU(alpha=0.2),\n",
        "      layers.Reshape((7, 7, 128)),\n",
        "      layers.Conv2DTranspose(128, (4,4), strides=(2, 2), padding=\"same\"),\n",
        "      layers.LeakyReLU(alpha=0.2),\n",
        "      layers.Conv2DTranspose(128, (4,4), strides=(2, 2), padding=\"same\"),\n",
        "      layers.LeakyReLU(alpha=0.2),\n",
        "      layers.Conv2D(1, (7, 7), padding=\"same\", activation=\"sigmoid\"),\n",
        "    ],\n",
        "    name=\"generator\",\n",
        ")\n",
        "\n",
        "generator.summary()"
      ],
      "execution_count": null,
      "outputs": [
        {
          "output_type": "stream",
          "text": [
            "Model: \"generator\"\n",
            "_________________________________________________________________\n",
            "Layer (type)                 Output Shape              Param #   \n",
            "=================================================================\n",
            "dense_1 (Dense)              (None, 6272)              809088    \n",
            "_________________________________________________________________\n",
            "leaky_re_lu_2 (LeakyReLU)    (None, 6272)              0         \n",
            "_________________________________________________________________\n",
            "reshape (Reshape)            (None, 7, 7, 128)         0         \n",
            "_________________________________________________________________\n",
            "conv2d_transpose (Conv2DTran (None, 14, 14, 128)       262272    \n",
            "_________________________________________________________________\n",
            "leaky_re_lu_3 (LeakyReLU)    (None, 14, 14, 128)       0         \n",
            "_________________________________________________________________\n",
            "conv2d_transpose_1 (Conv2DTr (None, 28, 28, 128)       262272    \n",
            "_________________________________________________________________\n",
            "leaky_re_lu_4 (LeakyReLU)    (None, 28, 28, 128)       0         \n",
            "_________________________________________________________________\n",
            "conv2d_2 (Conv2D)            (None, 28, 28, 1)         6273      \n",
            "=================================================================\n",
            "Total params: 1,339,905\n",
            "Trainable params: 1,339,905\n",
            "Non-trainable params: 0\n",
            "_________________________________________________________________\n"
          ],
          "name": "stdout"
        }
      ]
    },
    {
      "cell_type": "code",
      "metadata": {
        "id": "hOSvw96I_5TA"
      },
      "source": [
        "class GAN(keras.Model):\n",
        "    def __init__(self, discriminator, generator, latent_dim):\n",
        "        super(GAN, self).__init__()\n",
        "        self.discriminator = discriminator\n",
        "        self.generator = generator\n",
        "        self.latent_dim = latent_dim\n",
        "\n",
        "    def compile(self, d_optimizer, g_optimizer, loss_fn):\n",
        "        super(GAN, self).compile()\n",
        "        self.d_optimizer = d_optimizer\n",
        "        self.g_optimizer = g_optimizer\n",
        "        self.loss_fn = loss_fn\n",
        "\n",
        "    def train_step(self, real_images):\n",
        "        if isinstance(real_images, tuple):\n",
        "            real_images = real_images[0]\n",
        "        # Sample random points in the latent space\n",
        "        batch_size = tf.shape(real_images)[0]\n",
        "        random_latent_vectors = tf.random.normal(shape=(batch_size, self.latent_dim))\n",
        "\n",
        "        # Decode them to fake images\n",
        "        generated_images = self.generator(random_latent_vectors)\n",
        "\n",
        "        # Combine them with real images\n",
        "        combined_images = tf.concat([generated_images, real_images], axis=0)\n",
        "\n",
        "        # Assemble labels discriminating real from fake images\n",
        "        labels = tf.concat(\n",
        "            [tf.ones((batch_size, 1)), tf.zeros((batch_size, 1))], axis=0\n",
        "        )\n",
        "        # Add random noise to the labels - important trick!\n",
        "        labels += 0.05 * tf.random.uniform(tf.shape(labels))\n",
        "\n",
        "        # Train the discriminator\n",
        "        with tf.GradientTape() as tape:\n",
        "            predictions = self.discriminator(combined_images)\n",
        "            d_loss = self.loss_fn(labels, predictions)\n",
        "        grads = tape.gradient(d_loss, self.discriminator.trainable_weights)\n",
        "        self.d_optimizer.apply_gradients(\n",
        "            zip(grads, self.discriminator.trainable_weights)\n",
        "        )\n",
        "\n",
        "        # Sample random points in the latent space\n",
        "        random_latent_vectors = tf.random.normal(shape=(batch_size, self.latent_dim))\n",
        "\n",
        "        # Assemble labels that say \"all real images\"\n",
        "        misleading_labels = tf.zeros((batch_size, 1))\n",
        "\n",
        "        # Train the generator (note that we should *not* update the weights\n",
        "        # of the discriminator)!\n",
        "        with tf.GradientTape() as tape:\n",
        "            predictions = self.discriminator(self.generator(random_latent_vectors))\n",
        "            g_loss = self.loss_fn(misleading_labels, predictions)\n",
        "        grads = tape.gradient(g_loss, self.generator.trainable_weights)\n",
        "        self.g_optimizer.apply_gradients(zip(grads, self.generator.trainable_weights))\n",
        "        return {\"d_loss\": d_loss, \"g_loss\": g_loss}"
      ],
      "execution_count": null,
      "outputs": []
    },
    {
      "cell_type": "code",
      "metadata": {
        "id": "HE8dYMDhKmKu"
      },
      "source": [
        "class GANMonitor(keras.callbacks.Callback):\n",
        "    def __init__(self, num_img=3, latent_dim=128):\n",
        "        self.num_img = num_img\n",
        "        self.latent_dim = latent_dim\n",
        "\n",
        "    def on_epoch_end(self, epoch, logs=None):\n",
        "        random_latent_vectors = tf.random.normal(shape=(self.num_img, self.latent_dim))\n",
        "        generated_images = self.model.generator(random_latent_vectors)\n",
        "        generated_images *= 255\n",
        "        generated_images.numpy()\n",
        "        for i in range(self.num_img):\n",
        "            img = keras.preprocessing.image.array_to_img(generated_images[i])\n",
        "            img.save(\"generated_img_{i}_{epoch}.png\".format(i=i, epoch=epoch))"
      ],
      "execution_count": null,
      "outputs": []
    },
    {
      "cell_type": "code",
      "metadata": {
        "colab": {
          "base_uri": "https://localhost:8080/"
        },
        "id": "lDH8CrCxKvdt",
        "outputId": "bfbea383-a388-488e-f946-037210563b0e"
      },
      "source": [
        "epochs = 150\n",
        "\n",
        "gan = GAN(discriminator=discriminator, generator=generator, latent_dim=latent_dim)\n",
        "gan.compile(\n",
        "    d_optimizer=keras.optimizers.Adam(learning_rate=0.0003),\n",
        "    g_optimizer=keras.optimizers.Adam(learning_rate=0.0003),\n",
        "    loss_fn=keras.losses.BinaryCrossentropy(from_logits=True),\n",
        ")\n",
        "\n",
        "gan.fit(\n",
        "    dataset, epochs=epochs, callbacks=[GANMonitor(num_img=3, latent_dim=latent_dim)]\n",
        ")"
      ],
      "execution_count": null,
      "outputs": [
        {
          "output_type": "stream",
          "text": [
            "Epoch 1/150\n",
            "1094/1094 [==============================] - 29s 26ms/step - d_loss: 0.6298 - g_loss: 0.9469\n",
            "Epoch 2/150\n",
            "1094/1094 [==============================] - 28s 25ms/step - d_loss: 0.6310 - g_loss: 0.9487\n",
            "Epoch 3/150\n",
            "1094/1094 [==============================] - 27s 25ms/step - d_loss: 0.6313 - g_loss: 0.9432\n",
            "Epoch 4/150\n",
            "1094/1094 [==============================] - 27s 25ms/step - d_loss: 0.6308 - g_loss: 0.9415\n",
            "Epoch 5/150\n",
            "1094/1094 [==============================] - 28s 25ms/step - d_loss: 0.6326 - g_loss: 0.9382\n",
            "Epoch 6/150\n",
            "1094/1094 [==============================] - 27s 25ms/step - d_loss: 0.6310 - g_loss: 0.9401\n",
            "Epoch 7/150\n",
            "1094/1094 [==============================] - 27s 25ms/step - d_loss: 0.6328 - g_loss: 0.9383\n",
            "Epoch 8/150\n",
            "1094/1094 [==============================] - 28s 25ms/step - d_loss: 0.6332 - g_loss: 0.9401\n",
            "Epoch 9/150\n",
            "1094/1094 [==============================] - 27s 25ms/step - d_loss: 0.6345 - g_loss: 0.9354\n",
            "Epoch 10/150\n",
            "1094/1094 [==============================] - 27s 25ms/step - d_loss: 0.6334 - g_loss: 0.9352\n",
            "Epoch 11/150\n",
            "1094/1094 [==============================] - 27s 25ms/step - d_loss: 0.6337 - g_loss: 0.9378\n",
            "Epoch 12/150\n",
            "1094/1094 [==============================] - 27s 25ms/step - d_loss: 0.6345 - g_loss: 0.9322\n",
            "Epoch 13/150\n",
            "1094/1094 [==============================] - 28s 25ms/step - d_loss: 0.6349 - g_loss: 0.9356\n",
            "Epoch 14/150\n",
            "1094/1094 [==============================] - 28s 25ms/step - d_loss: 0.6353 - g_loss: 0.9309\n",
            "Epoch 15/150\n",
            "1094/1094 [==============================] - 28s 25ms/step - d_loss: 0.6357 - g_loss: 0.9307\n",
            "Epoch 16/150\n",
            "1094/1094 [==============================] - 28s 25ms/step - d_loss: 0.6356 - g_loss: 0.9285\n",
            "Epoch 17/150\n",
            "1094/1094 [==============================] - 27s 25ms/step - d_loss: 0.6354 - g_loss: 0.9288\n",
            "Epoch 18/150\n",
            "1094/1094 [==============================] - 27s 25ms/step - d_loss: 0.6362 - g_loss: 0.9289\n",
            "Epoch 19/150\n",
            "1094/1094 [==============================] - 27s 25ms/step - d_loss: 0.6365 - g_loss: 0.9295\n",
            "Epoch 20/150\n",
            "1094/1094 [==============================] - 27s 25ms/step - d_loss: 0.6350 - g_loss: 0.9278\n",
            "Epoch 21/150\n",
            "1094/1094 [==============================] - 27s 25ms/step - d_loss: 0.6359 - g_loss: 0.9270\n",
            "Epoch 22/150\n",
            "1094/1094 [==============================] - 27s 25ms/step - d_loss: 0.6366 - g_loss: 0.9279\n",
            "Epoch 23/150\n",
            "1094/1094 [==============================] - 27s 25ms/step - d_loss: 0.6362 - g_loss: 0.9258\n",
            "Epoch 24/150\n",
            "1094/1094 [==============================] - 27s 25ms/step - d_loss: 0.6375 - g_loss: 0.9262\n",
            "Epoch 25/150\n",
            "1094/1094 [==============================] - 27s 25ms/step - d_loss: 0.6384 - g_loss: 0.9255\n",
            "Epoch 26/150\n",
            "1094/1094 [==============================] - 27s 25ms/step - d_loss: 0.6374 - g_loss: 0.9236\n",
            "Epoch 27/150\n",
            "1094/1094 [==============================] - 27s 25ms/step - d_loss: 0.6387 - g_loss: 0.9193\n",
            "Epoch 28/150\n",
            "1094/1094 [==============================] - 27s 25ms/step - d_loss: 0.6379 - g_loss: 0.9181\n",
            "Epoch 29/150\n",
            "1094/1094 [==============================] - 27s 25ms/step - d_loss: 0.6388 - g_loss: 0.9198\n",
            "Epoch 30/150\n",
            "1094/1094 [==============================] - 27s 25ms/step - d_loss: 0.6382 - g_loss: 0.9213\n",
            "Epoch 31/150\n",
            "1094/1094 [==============================] - 27s 25ms/step - d_loss: 0.6369 - g_loss: 0.9222\n",
            "Epoch 32/150\n",
            "1094/1094 [==============================] - 27s 25ms/step - d_loss: 0.6386 - g_loss: 0.9181\n",
            "Epoch 33/150\n",
            "1094/1094 [==============================] - 27s 25ms/step - d_loss: 0.6386 - g_loss: 0.9163\n",
            "Epoch 34/150\n",
            "1094/1094 [==============================] - 27s 25ms/step - d_loss: 0.6384 - g_loss: 0.9200\n",
            "Epoch 35/150\n",
            "1094/1094 [==============================] - 27s 25ms/step - d_loss: 0.6379 - g_loss: 0.9207\n",
            "Epoch 36/150\n",
            "1094/1094 [==============================] - 27s 25ms/step - d_loss: 0.6379 - g_loss: 0.9199\n",
            "Epoch 37/150\n",
            "1094/1094 [==============================] - 27s 25ms/step - d_loss: 0.6358 - g_loss: 0.9202\n",
            "Epoch 38/150\n",
            "1094/1094 [==============================] - 27s 25ms/step - d_loss: 0.6365 - g_loss: 0.9257\n",
            "Epoch 39/150\n",
            "1094/1094 [==============================] - 27s 25ms/step - d_loss: 0.6373 - g_loss: 0.9224\n",
            "Epoch 40/150\n",
            "1094/1094 [==============================] - 27s 25ms/step - d_loss: 0.6368 - g_loss: 0.9227\n",
            "Epoch 41/150\n",
            "1094/1094 [==============================] - 27s 25ms/step - d_loss: 0.6368 - g_loss: 0.9212\n",
            "Epoch 42/150\n",
            "1094/1094 [==============================] - 27s 25ms/step - d_loss: 0.6377 - g_loss: 0.9214\n",
            "Epoch 43/150\n",
            "1094/1094 [==============================] - 27s 25ms/step - d_loss: 0.6377 - g_loss: 0.9198\n",
            "Epoch 44/150\n",
            "1094/1094 [==============================] - 27s 25ms/step - d_loss: 0.6379 - g_loss: 0.9216\n",
            "Epoch 45/150\n",
            "1094/1094 [==============================] - 27s 25ms/step - d_loss: 0.6352 - g_loss: 0.9226\n",
            "Epoch 46/150\n",
            "1094/1094 [==============================] - 28s 25ms/step - d_loss: 0.6375 - g_loss: 0.9205\n",
            "Epoch 47/150\n",
            "1094/1094 [==============================] - 27s 25ms/step - d_loss: 0.6365 - g_loss: 0.9195\n",
            "Epoch 48/150\n",
            "1094/1094 [==============================] - 27s 25ms/step - d_loss: 0.6380 - g_loss: 0.9210\n",
            "Epoch 49/150\n",
            "1094/1094 [==============================] - 27s 25ms/step - d_loss: 0.6364 - g_loss: 0.9244\n",
            "Epoch 50/150\n",
            "1094/1094 [==============================] - 27s 25ms/step - d_loss: 0.6368 - g_loss: 0.9234\n",
            "Epoch 51/150\n",
            "1094/1094 [==============================] - 28s 25ms/step - d_loss: 0.6374 - g_loss: 0.9206\n",
            "Epoch 52/150\n",
            "1094/1094 [==============================] - 28s 25ms/step - d_loss: 0.6365 - g_loss: 0.9242\n",
            "Epoch 53/150\n",
            "1094/1094 [==============================] - 28s 25ms/step - d_loss: 0.6363 - g_loss: 0.9261\n",
            "Epoch 54/150\n",
            "1094/1094 [==============================] - 27s 25ms/step - d_loss: 0.6357 - g_loss: 0.9238\n",
            "Epoch 55/150\n",
            "1094/1094 [==============================] - 27s 25ms/step - d_loss: 0.6359 - g_loss: 0.9252\n",
            "Epoch 56/150\n",
            "1094/1094 [==============================] - 27s 25ms/step - d_loss: 0.6349 - g_loss: 0.9246\n",
            "Epoch 57/150\n",
            "1094/1094 [==============================] - 27s 25ms/step - d_loss: 0.6351 - g_loss: 0.9262\n",
            "Epoch 58/150\n",
            "1094/1094 [==============================] - 27s 25ms/step - d_loss: 0.6340 - g_loss: 0.9284\n",
            "Epoch 59/150\n",
            "1094/1094 [==============================] - 27s 25ms/step - d_loss: 0.6364 - g_loss: 0.9281\n",
            "Epoch 60/150\n",
            "1094/1094 [==============================] - 27s 25ms/step - d_loss: 0.6340 - g_loss: 0.9262\n",
            "Epoch 61/150\n",
            "1094/1094 [==============================] - 27s 25ms/step - d_loss: 0.6351 - g_loss: 0.9295\n",
            "Epoch 62/150\n",
            "1094/1094 [==============================] - 27s 25ms/step - d_loss: 0.6356 - g_loss: 0.9262\n",
            "Epoch 63/150\n",
            "1094/1094 [==============================] - 27s 25ms/step - d_loss: 0.6330 - g_loss: 0.9289\n",
            "Epoch 64/150\n",
            "1094/1094 [==============================] - 27s 25ms/step - d_loss: 0.6335 - g_loss: 0.9267\n",
            "Epoch 65/150\n",
            "1094/1094 [==============================] - 27s 25ms/step - d_loss: 0.6331 - g_loss: 0.9261\n",
            "Epoch 66/150\n",
            "1094/1094 [==============================] - 27s 25ms/step - d_loss: 0.6342 - g_loss: 0.9325\n",
            "Epoch 67/150\n",
            "1094/1094 [==============================] - 27s 25ms/step - d_loss: 0.6336 - g_loss: 0.9320\n",
            "Epoch 68/150\n",
            "1094/1094 [==============================] - 27s 25ms/step - d_loss: 0.6316 - g_loss: 0.9324\n",
            "Epoch 69/150\n",
            "1094/1094 [==============================] - 27s 25ms/step - d_loss: 0.6316 - g_loss: 0.9325\n",
            "Epoch 70/150\n",
            "1094/1094 [==============================] - 27s 25ms/step - d_loss: 0.6324 - g_loss: 0.9356\n",
            "Epoch 71/150\n",
            "1094/1094 [==============================] - 27s 25ms/step - d_loss: 0.6315 - g_loss: 0.9403\n",
            "Epoch 72/150\n",
            "1094/1094 [==============================] - 27s 25ms/step - d_loss: 0.6280 - g_loss: 0.9405\n",
            "Epoch 73/150\n",
            "1094/1094 [==============================] - 27s 25ms/step - d_loss: 0.6305 - g_loss: 0.9330\n",
            "Epoch 74/150\n",
            "1094/1094 [==============================] - 27s 25ms/step - d_loss: 0.6282 - g_loss: 0.9383\n",
            "Epoch 75/150\n",
            "1094/1094 [==============================] - 27s 25ms/step - d_loss: 0.6277 - g_loss: 0.9442\n",
            "Epoch 76/150\n",
            "1094/1094 [==============================] - 27s 25ms/step - d_loss: 0.6274 - g_loss: 0.9450\n",
            "Epoch 77/150\n",
            "1094/1094 [==============================] - 27s 25ms/step - d_loss: 0.6278 - g_loss: 0.9462\n",
            "Epoch 78/150\n",
            "1094/1094 [==============================] - 27s 25ms/step - d_loss: 0.6267 - g_loss: 0.9491\n",
            "Epoch 79/150\n",
            "1094/1094 [==============================] - 27s 25ms/step - d_loss: 0.6258 - g_loss: 0.9462\n",
            "Epoch 80/150\n",
            "1094/1094 [==============================] - 28s 25ms/step - d_loss: 0.6252 - g_loss: 0.9504\n",
            "Epoch 81/150\n",
            "1094/1094 [==============================] - 27s 25ms/step - d_loss: 0.6226 - g_loss: 0.9507\n",
            "Epoch 82/150\n",
            "1094/1094 [==============================] - 27s 25ms/step - d_loss: 0.6216 - g_loss: 0.9565\n",
            "Epoch 83/150\n",
            "1094/1094 [==============================] - 27s 25ms/step - d_loss: 0.6220 - g_loss: 0.9589\n",
            "Epoch 84/150\n",
            "1094/1094 [==============================] - 27s 25ms/step - d_loss: 0.6188 - g_loss: 0.9654\n",
            "Epoch 85/150\n",
            "1094/1094 [==============================] - 27s 25ms/step - d_loss: 0.6198 - g_loss: 0.9631\n",
            "Epoch 86/150\n",
            "1094/1094 [==============================] - 27s 25ms/step - d_loss: 0.6176 - g_loss: 0.9681\n",
            "Epoch 87/150\n",
            "1094/1094 [==============================] - 27s 25ms/step - d_loss: 0.6157 - g_loss: 0.9702\n",
            "Epoch 88/150\n",
            "1094/1094 [==============================] - 27s 25ms/step - d_loss: 0.6151 - g_loss: 0.9735\n",
            "Epoch 89/150\n",
            "1094/1094 [==============================] - 27s 25ms/step - d_loss: 0.6136 - g_loss: 0.9792\n",
            "Epoch 90/150\n",
            "1094/1094 [==============================] - 27s 25ms/step - d_loss: 0.6122 - g_loss: 0.9848\n",
            "Epoch 91/150\n",
            "1094/1094 [==============================] - 27s 25ms/step - d_loss: 0.6133 - g_loss: 0.9805\n",
            "Epoch 92/150\n",
            "1094/1094 [==============================] - 27s 25ms/step - d_loss: 0.6110 - g_loss: 0.9912\n",
            "Epoch 93/150\n",
            "1094/1094 [==============================] - 27s 25ms/step - d_loss: 0.6077 - g_loss: 0.9915\n",
            "Epoch 94/150\n",
            "1094/1094 [==============================] - 27s 25ms/step - d_loss: 0.6072 - g_loss: 0.9950\n",
            "Epoch 95/150\n",
            "1094/1094 [==============================] - 27s 25ms/step - d_loss: 0.6061 - g_loss: 0.9933\n",
            "Epoch 96/150\n",
            "1094/1094 [==============================] - 27s 25ms/step - d_loss: 0.6044 - g_loss: 1.0041\n",
            "Epoch 97/150\n",
            "1094/1094 [==============================] - 27s 25ms/step - d_loss: 0.6045 - g_loss: 1.0043\n",
            "Epoch 98/150\n",
            "1094/1094 [==============================] - 27s 25ms/step - d_loss: 0.6026 - g_loss: 1.0128\n",
            "Epoch 99/150\n",
            "1094/1094 [==============================] - 27s 25ms/step - d_loss: 0.6010 - g_loss: 1.0114\n",
            "Epoch 100/150\n",
            "1094/1094 [==============================] - 27s 25ms/step - d_loss: 0.5987 - g_loss: 1.0181\n",
            "Epoch 101/150\n",
            "1094/1094 [==============================] - 27s 25ms/step - d_loss: 0.5963 - g_loss: 1.0242\n",
            "Epoch 102/150\n",
            "1094/1094 [==============================] - 27s 25ms/step - d_loss: 0.5965 - g_loss: 1.0242\n",
            "Epoch 103/150\n",
            "1094/1094 [==============================] - 27s 25ms/step - d_loss: 0.5970 - g_loss: 1.0316\n",
            "Epoch 104/150\n",
            "1094/1094 [==============================] - 27s 25ms/step - d_loss: 0.5943 - g_loss: 1.0353\n",
            "Epoch 105/150\n",
            "1094/1094 [==============================] - 27s 25ms/step - d_loss: 0.5920 - g_loss: 1.0395\n",
            "Epoch 106/150\n",
            "1094/1094 [==============================] - 27s 25ms/step - d_loss: 0.5911 - g_loss: 1.0441\n",
            "Epoch 107/150\n",
            "1094/1094 [==============================] - 27s 25ms/step - d_loss: 0.5898 - g_loss: 1.0444\n",
            "Epoch 108/150\n",
            "1094/1094 [==============================] - 27s 25ms/step - d_loss: 0.5858 - g_loss: 1.0522\n",
            "Epoch 109/150\n",
            "1094/1094 [==============================] - 27s 25ms/step - d_loss: 0.5857 - g_loss: 1.0624\n",
            "Epoch 110/150\n",
            "1094/1094 [==============================] - 27s 25ms/step - d_loss: 0.5838 - g_loss: 1.0638\n",
            "Epoch 111/150\n",
            "1094/1094 [==============================] - 27s 25ms/step - d_loss: 0.5800 - g_loss: 1.0687\n",
            "Epoch 112/150\n",
            "1094/1094 [==============================] - 27s 25ms/step - d_loss: 0.5823 - g_loss: 1.0704\n",
            "Epoch 113/150\n",
            "1094/1094 [==============================] - 27s 25ms/step - d_loss: 0.5801 - g_loss: 1.0672\n",
            "Epoch 114/150\n",
            "1094/1094 [==============================] - 27s 25ms/step - d_loss: 0.5795 - g_loss: 1.0748\n",
            "Epoch 115/150\n",
            "1094/1094 [==============================] - 27s 25ms/step - d_loss: 0.5772 - g_loss: 1.0787\n",
            "Epoch 116/150\n",
            "1094/1094 [==============================] - 27s 25ms/step - d_loss: 0.5761 - g_loss: 1.0852\n",
            "Epoch 117/150\n",
            "1094/1094 [==============================] - 27s 25ms/step - d_loss: 0.5722 - g_loss: 1.0938\n",
            "Epoch 118/150\n",
            "1094/1094 [==============================] - 27s 25ms/step - d_loss: 0.5702 - g_loss: 1.1041\n",
            "Epoch 119/150\n",
            "1094/1094 [==============================] - 27s 25ms/step - d_loss: 0.5684 - g_loss: 1.1019\n",
            "Epoch 120/150\n",
            "1094/1094 [==============================] - 27s 25ms/step - d_loss: 0.5691 - g_loss: 1.1115\n",
            "Epoch 121/150\n",
            "1094/1094 [==============================] - 27s 25ms/step - d_loss: 0.5659 - g_loss: 1.1158\n",
            "Epoch 122/150\n",
            "1094/1094 [==============================] - 27s 25ms/step - d_loss: 0.5601 - g_loss: 1.1282\n",
            "Epoch 123/150\n",
            "1094/1094 [==============================] - 27s 25ms/step - d_loss: 0.5598 - g_loss: 1.1261\n",
            "Epoch 124/150\n",
            "1094/1094 [==============================] - 27s 25ms/step - d_loss: 0.5622 - g_loss: 1.1328\n",
            "Epoch 125/150\n",
            "1094/1094 [==============================] - 27s 25ms/step - d_loss: 0.5573 - g_loss: 1.1435\n",
            "Epoch 126/150\n",
            "1094/1094 [==============================] - 28s 25ms/step - d_loss: 0.5572 - g_loss: 1.1370\n",
            "Epoch 127/150\n",
            "1094/1094 [==============================] - 28s 25ms/step - d_loss: 0.5526 - g_loss: 1.1514\n",
            "Epoch 128/150\n",
            "1094/1094 [==============================] - 27s 25ms/step - d_loss: 0.5516 - g_loss: 1.1530\n",
            "Epoch 129/150\n",
            "1094/1094 [==============================] - 27s 25ms/step - d_loss: 0.5492 - g_loss: 1.1632\n",
            "Epoch 130/150\n",
            "1094/1094 [==============================] - 27s 25ms/step - d_loss: 0.5498 - g_loss: 1.1695\n",
            "Epoch 131/150\n",
            "1094/1094 [==============================] - 28s 25ms/step - d_loss: 0.5482 - g_loss: 1.1767\n",
            "Epoch 132/150\n",
            "1094/1094 [==============================] - 28s 25ms/step - d_loss: 0.5472 - g_loss: 1.1747\n",
            "Epoch 133/150\n",
            "1094/1094 [==============================] - 27s 25ms/step - d_loss: 0.5437 - g_loss: 1.1845\n",
            "Epoch 134/150\n",
            "1094/1094 [==============================] - 27s 25ms/step - d_loss: 0.5422 - g_loss: 1.1895\n",
            "Epoch 135/150\n",
            "1094/1094 [==============================] - 27s 25ms/step - d_loss: 0.5433 - g_loss: 1.1946\n",
            "Epoch 136/150\n",
            "1094/1094 [==============================] - 27s 25ms/step - d_loss: 0.5393 - g_loss: 1.1971\n",
            "Epoch 137/150\n",
            "1094/1094 [==============================] - 28s 25ms/step - d_loss: 0.5380 - g_loss: 1.2043\n",
            "Epoch 138/150\n",
            "1094/1094 [==============================] - 27s 25ms/step - d_loss: 0.5364 - g_loss: 1.2153\n",
            "Epoch 139/150\n",
            "1094/1094 [==============================] - 27s 25ms/step - d_loss: 0.5335 - g_loss: 1.2294\n",
            "Epoch 140/150\n",
            "1094/1094 [==============================] - 27s 25ms/step - d_loss: 0.5332 - g_loss: 1.2302\n",
            "Epoch 141/150\n",
            "1094/1094 [==============================] - 27s 25ms/step - d_loss: 0.5328 - g_loss: 1.2310\n",
            "Epoch 142/150\n",
            "1094/1094 [==============================] - 27s 25ms/step - d_loss: 0.5275 - g_loss: 1.2377\n",
            "Epoch 143/150\n",
            "1094/1094 [==============================] - 27s 25ms/step - d_loss: 0.5283 - g_loss: 1.2434\n",
            "Epoch 144/150\n",
            "1094/1094 [==============================] - 27s 25ms/step - d_loss: 0.5305 - g_loss: 1.2408\n",
            "Epoch 145/150\n",
            "1094/1094 [==============================] - 27s 25ms/step - d_loss: 0.5228 - g_loss: 1.2555\n",
            "Epoch 146/150\n",
            "1094/1094 [==============================] - 27s 25ms/step - d_loss: 0.5271 - g_loss: 1.2530\n",
            "Epoch 147/150\n",
            "1094/1094 [==============================] - 27s 25ms/step - d_loss: 0.5227 - g_loss: 1.2576\n",
            "Epoch 148/150\n",
            "1094/1094 [==============================] - 27s 25ms/step - d_loss: 0.5222 - g_loss: 1.2679\n",
            "Epoch 149/150\n",
            "1094/1094 [==============================] - 27s 25ms/step - d_loss: 0.5202 - g_loss: 1.2630\n",
            "Epoch 150/150\n",
            "1094/1094 [==============================] - 27s 25ms/step - d_loss: 0.5207 - g_loss: 1.2744\n"
          ],
          "name": "stdout"
        },
        {
          "output_type": "execute_result",
          "data": {
            "text/plain": [
              "<tensorflow.python.keras.callbacks.History at 0x7fd74002b908>"
            ]
          },
          "metadata": {
            "tags": []
          },
          "execution_count": 14
        }
      ]
    },
    {
      "cell_type": "code",
      "metadata": {
        "id": "6cPl3QqdLUt3"
      },
      "source": [
        "from IPython.display import Image, display"
      ],
      "execution_count": null,
      "outputs": []
    },
    {
      "cell_type": "code",
      "metadata": {
        "colab": {
          "base_uri": "https://localhost:8080/",
          "height": 45
        },
        "id": "zDTJLJMAPNJP",
        "outputId": "ed7ac61f-1853-447a-9121-4813df4fc2f4"
      },
      "source": [
        "display(Image(\"generated_img_0_4.png\"))"
      ],
      "execution_count": null,
      "outputs": [
        {
          "output_type": "display_data",
          "data": {
            "image/png": "[encoded data removed]",
            "text/plain": [
              "<IPython.core.display.Image object>"
            ]
          },
          "metadata": {
            "tags": []
          }
        }
      ]
    },
    {
      "cell_type": "code",
      "metadata": {
        "colab": {
          "base_uri": "https://localhost:8080/",
          "height": 45
        },
        "id": "HDOBl6eAP9Ux",
        "outputId": "ba4d011d-ee94-4d19-c926-41aece9ff0e9"
      },
      "source": [
        "display(Image(\"generated_img_0_0.png\"))"
      ],
      "execution_count": null,
      "outputs": [
        {
          "output_type": "display_data",
          "data": {
            "image/png": "[encoded data removed]",
            "text/plain": [
              "<IPython.core.display.Image object>"
            ]
          },
          "metadata": {
            "tags": []
          }
        }
      ]
    },
    {
      "cell_type": "code",
      "metadata": {
        "colab": {
          "base_uri": "https://localhost:8080/",
          "height": 45
        },
        "id": "QtJDGb7IowVt",
        "outputId": "7595a3b0-0b9c-4200-d540-48ea8434f716"
      },
      "source": [
        "display(Image(\"generated_img_0_1.png\"))"
      ],
      "execution_count": null,
      "outputs": [
        {
          "output_type": "display_data",
          "data": {
            "image/png": "[encoded data removed]",
            "text/plain": [
              "<IPython.core.display.Image object>"
            ]
          },
          "metadata": {
            "tags": []
          }
        }
      ]
    },
    {
      "cell_type": "code",
      "metadata": {
        "colab": {
          "base_uri": "https://localhost:8080/",
          "height": 45
        },
        "id": "V4L88OJqoxhz",
        "outputId": "77a40a9c-1cb5-40e5-c86a-a7d5f2197037"
      },
      "source": [
        "display(Image(\"generated_img_0_2.png\"))"
      ],
      "execution_count": null,
      "outputs": [
        {
          "output_type": "display_data",
          "data": {
            "image/png": "[encoded data removed]",
            "text/plain": [
              "<IPython.core.display.Image object>"
            ]
          },
          "metadata": {
            "tags": []
          }
        }
      ]
    },
    {
      "cell_type": "code",
      "metadata": {
        "colab": {
          "base_uri": "https://localhost:8080/",
          "height": 45
        },
        "id": "9HpT9czKozO9",
        "outputId": "78df3460-ec3e-4d41-ffe1-4958eaa9cdc8"
      },
      "source": [
        "display(Image(\"generated_img_0_3.png\"))"
      ],
      "execution_count": null,
      "outputs": [
        {
          "output_type": "display_data",
          "data": {
            "image/png": "[encoded data removed]",
            "text/plain": [
              "<IPython.core.display.Image object>"
            ]
          },
          "metadata": {
            "tags": []
          }
        }
      ]
    },
    {
      "cell_type": "code",
      "metadata": {
        "id": "4TxhXDkjo0Y-"
      },
      "source": [
        ""
      ],
      "execution_count": null,
      "outputs": []
    }
  ]
}