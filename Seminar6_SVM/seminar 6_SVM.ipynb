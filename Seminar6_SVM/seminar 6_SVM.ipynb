{
 "cells": [
  {
   "attachments": {},
   "cell_type": "markdown",
   "metadata": {},
   "source": [
    "### Семинар 6. Метод опорных векторов (SVM)\n",
    "\n",
    "из материалов спецкурсе «Введение в компьютерный интеллект. Машинное обучение» механико-математического факультета МГУ."
   ]
  },
  {
   "cell_type": "code",
   "execution_count": 14,
   "metadata": {},
   "outputs": [],
   "source": [
    "from sklearn.datasets import load_breast_cancer\n",
    "from sklearn.model_selection import train_test_split"
   ]
  },
  {
   "cell_type": "code",
   "execution_count": 2,
   "metadata": {},
   "outputs": [],
   "source": [
    "X, y = load_breast_cancer(return_X_y=True)"
   ]
  },
  {
   "cell_type": "code",
   "execution_count": 3,
   "metadata": {},
   "outputs": [
    {
     "name": "stdout",
     "output_type": "stream",
     "text": [
      "(455, 30) (455,) (114, 30) (114,)\n"
     ]
    }
   ],
   "source": [
    "trainX, testX, trainY, testY = train_test_split(X, y, random_state=42, test_size=0.2)\n",
    "print(trainX.shape, trainY.shape, testX.shape, testY.shape)"
   ]
  },
  {
   "cell_type": "code",
   "execution_count": 4,
   "metadata": {},
   "outputs": [
    {
     "name": "stdout",
     "output_type": "stream",
     "text": [
      "[1 0 0 1 1 0 0 0 1 1 1 0 1 0 1 0 1 1 1 0 0 1 0 1 1 1 1 1 1 0 1 1 1 1 1 1 0\n",
      " 1 0 1 1 0 1 1 1 1 1 1 1 1 0 0 1 1 1 1 1 0 0 1 1 0 0 1 1 1 0 0 1 1 0 0 1 0\n",
      " 1 1 1 0 1 1 0 1 0 0 0 0 0 0 1 1 1 1 1 1 1 1 0 0 1 0 0 1 0 0 1 1 1 0 1 1 0\n",
      " 1 1 0]\n"
     ]
    }
   ],
   "source": [
    "print(testY)"
   ]
  },
  {
   "cell_type": "markdown",
   "metadata": {},
   "source": [
    "### Linear SVM"
   ]
  },
  {
   "cell_type": "code",
   "execution_count": 5,
   "metadata": {},
   "outputs": [
    {
     "name": "stdout",
     "output_type": "stream",
     "text": [
      "[1 0 0 1 1 0 0 1 1 1 1 0 1 1 1 1 1 1 1 0 1 1 0 1 1 1 1 1 1 0 1 1 1 1 1 1 0\n",
      " 1 0 1 1 0 1 1 1 1 1 1 1 1 0 0 1 1 1 1 1 0 1 1 1 0 0 1 1 1 0 0 1 1 1 0 1 1\n",
      " 1 1 1 1 1 1 0 1 1 0 0 1 1 0 1 1 1 1 1 1 1 1 0 0 1 0 0 1 0 1 1 1 1 0 1 1 0\n",
      " 1 1 0]\n"
     ]
    },
    {
     "name": "stderr",
     "output_type": "stream",
     "text": [
      "/Users/Artem/opt/anaconda2/envs/Ds/lib/python3.7/site-packages/sklearn/svm/_base.py:977: ConvergenceWarning: Liblinear failed to converge, increase the number of iterations.\n",
      "  \"the number of iterations.\", ConvergenceWarning)\n"
     ]
    }
   ],
   "source": [
    "from sklearn.svm import LinearSVC\n",
    "clf = LinearSVC(random_state=42).fit(trainX, trainY)\n",
    "out_y = clf.predict(testX)\n",
    "print(out_y)"
   ]
  },
  {
   "cell_type": "markdown",
   "metadata": {},
   "source": [
    "Можно посмотреть сами значения, по которым принимается решение (берется sign)"
   ]
  },
  {
   "cell_type": "code",
   "execution_count": 6,
   "metadata": {},
   "outputs": [
    {
     "name": "stdout",
     "output_type": "stream",
     "text": [
      "[  1.18851439  -2.89392783  -0.12734253   2.29771155   2.21973379\n",
      "  -1.84421241  -3.43893656   0.57467205   2.14177447   1.80669524\n",
      "   1.66317853  -0.25239285   1.95122326   1.50436011   1.9997518\n",
      "   0.97943449   2.16712509   2.12205657   1.47661689  -1.1730284\n",
      "   1.22441216   1.66805285  -2.23187008   1.66544424   1.82179585\n",
      "   2.52342397   2.17161281   1.83934131   1.97142015  -2.56909764\n",
      "   1.92717078   2.04028295   1.38363863   1.44927131   1.91445309\n",
      "   1.78048706  -0.10670635   1.62161053  -1.41533354   1.53883472\n",
      "   1.88433504  -0.11270409   2.21348899   1.6690105    2.12156575\n",
      "   1.45616004   1.85080457   1.38623889   1.4666477    2.11665562\n",
      "  -0.9729704   -2.03834992   1.85235323   2.27527816   2.20659616\n",
      "   1.58949521   1.95336909  -3.44511832   1.3890462    2.20050965\n",
      "   1.79540371  -1.25128027  -2.5863754    1.79921929   1.81930486\n",
      "   1.53324735  -0.68456497  -0.43563365   1.97609357   1.83613624\n",
      "   0.63081129  -1.027425     2.03570592   1.49916583   1.14216671\n",
      "   2.14763628   1.6581637    1.14628523   1.77256858   1.87033427\n",
      "  -0.0429102    1.69021367   1.2738707   -2.61697064  -0.09266692\n",
      "   1.20051228   0.72292768  -0.90975999   2.17285236   1.94638111\n",
      "   1.5893215    1.53163944   1.67411049   1.62984175   2.02271053\n",
      "   1.70406405  -1.65214927  -1.65156838   2.18169031  -0.2771961\n",
      "  -0.98058173   2.09313448  -1.82754985   0.13566412   1.04544989\n",
      "   1.34616585   1.85818183  -6.49096017   1.83888997   1.43907586\n",
      "  -0.51107579   1.92133288   1.23136389 -12.24224496]\n",
      "[ True  True  True  True  True  True  True  True  True  True  True  True\n",
      "  True  True  True  True  True  True  True  True  True  True  True  True\n",
      "  True  True  True  True  True  True  True  True  True  True  True  True\n",
      "  True  True  True  True  True  True  True  True  True  True  True  True\n",
      "  True  True  True  True  True  True  True  True  True  True  True  True\n",
      "  True  True  True  True  True  True  True  True  True  True  True  True\n",
      "  True  True  True  True  True  True  True  True  True  True  True  True\n",
      "  True  True  True  True  True  True  True  True  True  True  True  True\n",
      "  True  True  True  True  True  True  True  True  True  True  True  True\n",
      "  True  True  True  True  True  True]\n"
     ]
    }
   ],
   "source": [
    "import numpy as np\n",
    "scores = clf.decision_function(testX)\n",
    "print(scores)\n",
    "print((scores > 0).astype(np.int32) == out_y)"
   ]
  },
  {
   "cell_type": "markdown",
   "metadata": {},
   "source": [
    "Можно распечатать коэффициенты линейного классификатора и его свободный член"
   ]
  },
  {
   "cell_type": "code",
   "execution_count": 7,
   "metadata": {},
   "outputs": [
    {
     "name": "stdout",
     "output_type": "stream",
     "text": [
      "w = [[ 3.45386703e-02  2.00806900e-02  7.64178014e-02  4.94928531e-04\n",
      "  -6.29510508e-04 -4.20627087e-03 -5.67596874e-03 -2.31336030e-03\n",
      "  -8.71485683e-04 -1.67033859e-04  1.04266071e-03  6.32117496e-03\n",
      "  -6.45348580e-03 -8.45928174e-03 -2.70431797e-05 -1.03113061e-03\n",
      "  -1.26265678e-03 -3.29641789e-04 -2.16910389e-04 -7.91469278e-05\n",
      "   3.54975245e-02 -3.85068140e-02 -1.79731405e-02 -5.36445901e-03\n",
      "  -1.25172012e-03 -1.49058611e-02 -1.74979726e-02 -4.91592845e-03\n",
      "  -3.62856882e-03 -1.20501081e-03]]\n",
      "w0 = [0.00610667]\n"
     ]
    }
   ],
   "source": [
    "print('w =', clf.coef_)\n",
    "print('w0 =', clf.intercept_)"
   ]
  },
  {
   "cell_type": "code",
   "execution_count": 8,
   "metadata": {},
   "outputs": [
    {
     "name": "stdout",
     "output_type": "stream",
     "text": [
      "Linear score: 0.8947368421052632\n"
     ]
    }
   ],
   "source": [
    "out_score = clf.score(testX, testY)\n",
    "print('Linear score:', out_score)"
   ]
  },
  {
   "cell_type": "markdown",
   "metadata": {},
   "source": [
    "### Kernel SVM"
   ]
  },
  {
   "cell_type": "code",
   "execution_count": 9,
   "metadata": {},
   "outputs": [
    {
     "name": "stdout",
     "output_type": "stream",
     "text": [
      "[1 0 0 1 1 0 0 0 1 1 1 0 1 0 1 0 1 1 1 0 1 1 0 1 1 1 1 1 1 0 1 1 1 1 1 1 0\n",
      " 1 0 1 1 0 1 1 1 1 1 1 1 1 0 0 1 1 1 1 1 0 1 1 1 0 0 1 1 1 0 0 1 1 1 0 1 0\n",
      " 1 1 1 1 1 1 0 1 1 0 0 0 1 0 1 1 1 1 1 1 1 1 0 0 1 0 0 1 0 0 1 1 1 0 1 1 0\n",
      " 1 1 0]\n"
     ]
    }
   ],
   "source": [
    "from sklearn.svm import SVC\n",
    "clf = SVC(random_state=42, C=1.0, kernel='poly', degree=3, gamma='scale').fit(trainX, trainY)\n",
    "out_y = clf.predict(testX)\n",
    "print(out_y)"
   ]
  },
  {
   "cell_type": "markdown",
   "metadata": {},
   "source": [
    "Можно посмотреть количество опорных векторов для каждого класса, их индексы, а также сами опорные вектора"
   ]
  },
  {
   "cell_type": "code",
   "execution_count": 10,
   "metadata": {},
   "outputs": [
    {
     "name": "stdout",
     "output_type": "stream",
     "text": [
      "[60 60]\n",
      "[  5  17  21  25  30  34  36  50  55  71  95 100 106 120 121 130 134 141\n",
      " 145 147 155 162 183 193 197 202 236 283 285 286 306 309 310 312 323 324\n",
      " 327 329 332 335 352 353 354 357 360 362 364 365 391 394 397 398 403 409\n",
      " 413 435 441 445 446 453   6  18  20  24  35  39  44  53  57  59  61  63\n",
      "  65  66  72  73  82  86 107 117 124 129 133 136 144 149 160 171 180 203\n",
      " 204 207 223 229 230 239 241 247 262 269 272 281 282 284 290 299 305 334\n",
      " 355 358 380 382 395 405 415 419 422 436 437 439]\n",
      "[[1.454e+01 2.754e+01 9.673e+01 ... 1.712e-01 4.218e-01 1.341e-01]\n",
      " [1.522e+01 3.062e+01 1.034e+02 ... 2.356e-01 4.089e-01 1.409e-01]\n",
      " [1.534e+01 1.426e+01 1.025e+02 ... 2.393e-01 4.667e-01 9.946e-02]\n",
      " ...\n",
      " [1.499e+01 2.211e+01 9.753e+01 ... 1.308e-01 3.163e-01 9.251e-02]\n",
      " [1.785e+01 1.323e+01 1.146e+02 ... 8.341e-02 1.783e-01 5.871e-02]\n",
      " [1.350e+01 1.271e+01 8.569e+01 ... 2.210e-02 2.267e-01 6.192e-02]]\n"
     ]
    }
   ],
   "source": [
    "print(clf.n_support_)\n",
    "print(clf.support_)\n",
    "print(clf.support_vectors_)"
   ]
  },
  {
   "cell_type": "code",
   "execution_count": 12,
   "metadata": {},
   "outputs": [
    {
     "name": "stdout",
     "output_type": "stream",
     "text": [
      "train vector == support vector:  True\n"
     ]
    }
   ],
   "source": [
    "i=0\n",
    "idx = clf.support_[i]\n",
    "import numpy as np\n",
    "print('train vector == support vector: ', np.all(trainX[idx] == clf.support_vectors_[i]))"
   ]
  },
  {
   "cell_type": "code",
   "execution_count": 13,
   "metadata": {},
   "outputs": [
    {
     "name": "stdout",
     "output_type": "stream",
     "text": [
      "Poly score: 0.9473684210526315\n"
     ]
    }
   ],
   "source": [
    "out_score = clf.score(testX, testY)\n",
    "print('Poly score:', out_score)"
   ]
  },
  {
   "cell_type": "markdown",
   "metadata": {},
   "source": [
    "### См. также\n",
    "\n",
    "- LibSVM - https://www.csie.ntu.edu.tw/~cjlin/libsvm/ - с++/Java реализация SVM общего вида со множеством интерфейсов в сторонних ЯП\n",
    "- LibLinear - https://www.csie.ntu.edu.tw/~cjlin/liblinear/ - версия LibSVM исключительно для линейного ядра (работает в этом случае гораздо быстрее)"
   ]
  },
  {
   "cell_type": "markdown",
   "metadata": {},
   "source": [
    "### Сравним с некоторой нейронной сетью"
   ]
  },
  {
   "cell_type": "code",
   "execution_count": 16,
   "metadata": {},
   "outputs": [],
   "source": [
    "import keras"
   ]
  },
  {
   "cell_type": "code",
   "execution_count": 52,
   "metadata": {},
   "outputs": [
    {
     "name": "stdout",
     "output_type": "stream",
     "text": [
      "Model: \"sequential_8\"\n",
      "_________________________________________________________________\n",
      "Layer (type)                 Output Shape              Param #   \n",
      "=================================================================\n",
      "dense_21 (Dense)             (None, 15)                465       \n",
      "_________________________________________________________________\n",
      "dense_22 (Dense)             (None, 7)                 112       \n",
      "_________________________________________________________________\n",
      "dense_23 (Dense)             (None, 1)                 8         \n",
      "=================================================================\n",
      "Total params: 585\n",
      "Trainable params: 585\n",
      "Non-trainable params: 0\n",
      "_________________________________________________________________\n"
     ]
    }
   ],
   "source": [
    "model = keras.Sequential()\n",
    "model.add(keras.Input(shape=(30,)))\n",
    "model.add(keras.layers.Dense(15, activation=\"relu\"))\n",
    "model.add(keras.layers.Dense(7, activation=\"relu\"))\n",
    "model.add(keras.layers.Dense(1, activation=\"relu\"))\n",
    "\n",
    "model.compile(optimizer='SGD', loss='binary_crossentropy')\n",
    "\n",
    "model.summary()"
   ]
  },
  {
   "cell_type": "code",
   "execution_count": 53,
   "metadata": {},
   "outputs": [],
   "source": [
    "trX=trainX/trainX.max()"
   ]
  },
  {
   "cell_type": "code",
   "execution_count": 56,
   "metadata": {},
   "outputs": [
    {
     "name": "stdout",
     "output_type": "stream",
     "text": [
      "Epoch 1/30\n",
      "15/15 [==============================] - 0s 1ms/step - loss: 0.3062\n",
      "Epoch 2/30\n",
      "15/15 [==============================] - 0s 2ms/step - loss: 0.2997\n",
      "Epoch 3/30\n",
      "15/15 [==============================] - 0s 1ms/step - loss: 0.2944\n",
      "Epoch 4/30\n",
      "15/15 [==============================] - 0s 1ms/step - loss: 0.2902\n",
      "Epoch 5/30\n",
      "15/15 [==============================] - 0s 1ms/step - loss: 0.2908\n",
      "Epoch 6/30\n",
      "15/15 [==============================] - 0s 970us/step - loss: 0.2784\n",
      "Epoch 7/30\n",
      "15/15 [==============================] - 0s 1ms/step - loss: 0.2964\n",
      "Epoch 8/30\n",
      "15/15 [==============================] - 0s 929us/step - loss: 0.2753\n",
      "Epoch 9/30\n",
      "15/15 [==============================] - 0s 1ms/step - loss: 0.2816\n",
      "Epoch 10/30\n",
      "15/15 [==============================] - 0s 1ms/step - loss: 0.2845\n",
      "Epoch 11/30\n",
      "15/15 [==============================] - 0s 1ms/step - loss: 0.2817\n",
      "Epoch 12/30\n",
      "15/15 [==============================] - 0s 1ms/step - loss: 0.3001\n",
      "Epoch 13/30\n",
      "15/15 [==============================] - 0s 1ms/step - loss: 0.2678\n",
      "Epoch 14/30\n",
      "15/15 [==============================] - 0s 911us/step - loss: 0.3207\n",
      "Epoch 15/30\n",
      "15/15 [==============================] - 0s 1ms/step - loss: 0.2744\n",
      "Epoch 16/30\n",
      "15/15 [==============================] - 0s 1ms/step - loss: 0.3286\n",
      "Epoch 17/30\n",
      "15/15 [==============================] - 0s 1ms/step - loss: 0.2703\n",
      "Epoch 18/30\n",
      "15/15 [==============================] - 0s 1ms/step - loss: 0.2693\n",
      "Epoch 19/30\n",
      "15/15 [==============================] - 0s 1ms/step - loss: 0.2850\n",
      "Epoch 20/30\n",
      "15/15 [==============================] - 0s 1ms/step - loss: 0.3763\n",
      "Epoch 21/30\n",
      "15/15 [==============================] - 0s 1ms/step - loss: 0.2613\n",
      "Epoch 22/30\n",
      "15/15 [==============================] - 0s 1ms/step - loss: 0.2908\n",
      "Epoch 23/30\n",
      "15/15 [==============================] - 0s 2ms/step - loss: 0.2660\n",
      "Epoch 24/30\n",
      "15/15 [==============================] - 0s 1ms/step - loss: 0.3118\n",
      "Epoch 25/30\n",
      "15/15 [==============================] - 0s 1ms/step - loss: 0.4543\n",
      "Epoch 26/30\n",
      "15/15 [==============================] - 0s 1ms/step - loss: 2.5538\n",
      "Epoch 27/30\n",
      "15/15 [==============================] - 0s 1ms/step - loss: 0.2945\n",
      "Epoch 28/30\n",
      "15/15 [==============================] - 0s 979us/step - loss: 0.3140\n",
      "Epoch 29/30\n",
      "15/15 [==============================] - 0s 1ms/step - loss: 0.2816\n",
      "Epoch 30/30\n",
      "15/15 [==============================] - 0s 1ms/step - loss: 0.3388\n"
     ]
    },
    {
     "data": {
      "text/plain": [
       "<tensorflow.python.keras.callbacks.History at 0x144243a10>"
      ]
     },
     "execution_count": 56,
     "metadata": {},
     "output_type": "execute_result"
    }
   ],
   "source": [
    "model.fit(trX, trainY, epochs=30)"
   ]
  },
  {
   "cell_type": "code",
   "execution_count": 58,
   "metadata": {},
   "outputs": [],
   "source": [
    "tsX=testX/testX.max()"
   ]
  },
  {
   "cell_type": "code",
   "execution_count": 59,
   "metadata": {},
   "outputs": [],
   "source": [
    "pred=model.predict(tsX)"
   ]
  },
  {
   "cell_type": "code",
   "execution_count": 65,
   "metadata": {},
   "outputs": [],
   "source": [
    "res=np.mean(pred-testY)"
   ]
  },
  {
   "cell_type": "code",
   "execution_count": 66,
   "metadata": {},
   "outputs": [
    {
     "data": {
      "text/plain": [
       "-0.1471939808443973"
      ]
     },
     "execution_count": 66,
     "metadata": {},
     "output_type": "execute_result"
    }
   ],
   "source": [
    "res"
   ]
  },
  {
   "cell_type": "code",
   "execution_count": null,
   "metadata": {},
   "outputs": [],
   "source": []
  }
 ],
 "metadata": {
  "kernelspec": {
   "display_name": "Python 3",
   "language": "python",
   "name": "python3"
  },
  "language_info": {
   "codemirror_mode": {
    "name": "ipython",
    "version": 3
   },
   "file_extension": ".py",
   "mimetype": "text/x-python",
   "name": "python",
   "nbconvert_exporter": "python",
   "pygments_lexer": "ipython3",
   "version": "3.7.7"
  }
 },
 "nbformat": 4,
 "nbformat_minor": 4
}
