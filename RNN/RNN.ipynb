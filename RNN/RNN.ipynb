{
 "cells": [
  {
   "cell_type": "code",
   "execution_count": 1,
   "metadata": {},
   "outputs": [],
   "source": [
    "from tensorflow import keras\n",
    "import numpy as np\n",
    "import pandas as pd\n",
    "import matplotlib.pyplot as plt"
   ]
  },
  {
   "cell_type": "markdown",
   "metadata": {},
   "source": [
    "## Задача 1. Пронгозирование количества пассжиров гражданских авиалиний"
   ]
  },
  {
   "cell_type": "code",
   "execution_count": 2,
   "metadata": {},
   "outputs": [
    {
     "data": {
      "text/html": [
       "<div>\n",
       "<style scoped>\n",
       "    .dataframe tbody tr th:only-of-type {\n",
       "        vertical-align: middle;\n",
       "    }\n",
       "\n",
       "    .dataframe tbody tr th {\n",
       "        vertical-align: top;\n",
       "    }\n",
       "\n",
       "    .dataframe thead th {\n",
       "        text-align: right;\n",
       "    }\n",
       "</style>\n",
       "<table border=\"1\" class=\"dataframe\">\n",
       "  <thead>\n",
       "    <tr style=\"text-align: right;\">\n",
       "      <th></th>\n",
       "      <th>Month</th>\n",
       "      <th>#Passengers</th>\n",
       "    </tr>\n",
       "  </thead>\n",
       "  <tbody>\n",
       "    <tr>\n",
       "      <th>0</th>\n",
       "      <td>1949-01</td>\n",
       "      <td>112</td>\n",
       "    </tr>\n",
       "    <tr>\n",
       "      <th>1</th>\n",
       "      <td>1949-02</td>\n",
       "      <td>118</td>\n",
       "    </tr>\n",
       "    <tr>\n",
       "      <th>2</th>\n",
       "      <td>1949-03</td>\n",
       "      <td>132</td>\n",
       "    </tr>\n",
       "    <tr>\n",
       "      <th>3</th>\n",
       "      <td>1949-04</td>\n",
       "      <td>129</td>\n",
       "    </tr>\n",
       "    <tr>\n",
       "      <th>4</th>\n",
       "      <td>1949-05</td>\n",
       "      <td>121</td>\n",
       "    </tr>\n",
       "    <tr>\n",
       "      <th>...</th>\n",
       "      <td>...</td>\n",
       "      <td>...</td>\n",
       "    </tr>\n",
       "    <tr>\n",
       "      <th>139</th>\n",
       "      <td>1960-08</td>\n",
       "      <td>606</td>\n",
       "    </tr>\n",
       "    <tr>\n",
       "      <th>140</th>\n",
       "      <td>1960-09</td>\n",
       "      <td>508</td>\n",
       "    </tr>\n",
       "    <tr>\n",
       "      <th>141</th>\n",
       "      <td>1960-10</td>\n",
       "      <td>461</td>\n",
       "    </tr>\n",
       "    <tr>\n",
       "      <th>142</th>\n",
       "      <td>1960-11</td>\n",
       "      <td>390</td>\n",
       "    </tr>\n",
       "    <tr>\n",
       "      <th>143</th>\n",
       "      <td>1960-12</td>\n",
       "      <td>432</td>\n",
       "    </tr>\n",
       "  </tbody>\n",
       "</table>\n",
       "<p>144 rows × 2 columns</p>\n",
       "</div>"
      ],
      "text/plain": [
       "       Month  #Passengers\n",
       "0    1949-01          112\n",
       "1    1949-02          118\n",
       "2    1949-03          132\n",
       "3    1949-04          129\n",
       "4    1949-05          121\n",
       "..       ...          ...\n",
       "139  1960-08          606\n",
       "140  1960-09          508\n",
       "141  1960-10          461\n",
       "142  1960-11          390\n",
       "143  1960-12          432\n",
       "\n",
       "[144 rows x 2 columns]"
      ]
     },
     "execution_count": 2,
     "metadata": {},
     "output_type": "execute_result"
    }
   ],
   "source": [
    "data = pd.read_csv(\"air.csv\")\n",
    "data"
   ]
  },
  {
   "cell_type": "code",
   "execution_count": 6,
   "metadata": {},
   "outputs": [
    {
     "data": {
      "text/plain": [
       "array([0.18006431, 0.18971061, 0.21221865, 0.2073955 , 0.19453376,\n",
       "       0.2170418 , 0.23794212, 0.23794212, 0.21864952, 0.19131833,\n",
       "       0.16720257, 0.18971061, 0.18488746, 0.20257235, 0.2266881 ,\n",
       "       0.2170418 , 0.20096463, 0.23954984, 0.2733119 , 0.2733119 ,\n",
       "       0.25401929, 0.21382637, 0.18327974, 0.22508039, 0.23311897,\n",
       "       0.24115756, 0.28617363, 0.26205788, 0.27652733, 0.28617363,\n",
       "       0.31993569, 0.31993569, 0.29581994, 0.26045016, 0.23472669,\n",
       "       0.26688103, 0.27491961, 0.28938907, 0.31028939, 0.29099678,\n",
       "       0.29421222, 0.35048232, 0.36977492, 0.38906752, 0.33601286,\n",
       "       0.30707395, 0.27652733, 0.31189711, 0.31511254, 0.31511254,\n",
       "       0.37942122, 0.3778135 , 0.3681672 , 0.39067524, 0.4244373 ,\n",
       "       0.43729904, 0.38102894, 0.3392283 , 0.28938907, 0.32315113,\n",
       "       0.32797428, 0.3022508 , 0.3778135 , 0.36495177, 0.37620579,\n",
       "       0.4244373 , 0.48553055, 0.47106109, 0.41639871, 0.3681672 ,\n",
       "       0.32636656, 0.3681672 , 0.38906752, 0.37459807, 0.42926045,\n",
       "       0.43247588, 0.4340836 , 0.50643087, 0.585209  , 0.55787781,\n",
       "       0.50160772, 0.44051447, 0.38102894, 0.44694534, 0.45659164,\n",
       "       0.44533762, 0.5096463 , 0.50321543, 0.51125402, 0.60128617,\n",
       "       0.66398714, 0.6511254 , 0.57073955, 0.49196141, 0.43569132,\n",
       "       0.49196141, 0.50643087, 0.48392283, 0.57234727, 0.55948553,\n",
       "       0.57073955, 0.67845659, 0.74758842, 0.75080386, 0.64951768,\n",
       "       0.55787781, 0.4903537 , 0.54019293, 0.54662379, 0.51125402,\n",
       "       0.58199357, 0.55948553, 0.58360129, 0.69935691, 0.78938907,\n",
       "       0.81189711, 0.64951768, 0.57717042, 0.49839228, 0.54180064,\n",
       "       0.57877814, 0.54983923, 0.65273312, 0.63665595, 0.67524116,\n",
       "       0.75884244, 0.88102894, 0.89871383, 0.74437299, 0.65434084,\n",
       "       0.58199357, 0.6511254 , 0.67041801, 0.62861736, 0.67363344,\n",
       "       0.74115756, 0.75884244, 0.86012862, 1.        , 0.97427653,\n",
       "       0.81672026, 0.74115756, 0.62700965, 0.69453376])"
      ]
     },
     "execution_count": 6,
     "metadata": {},
     "output_type": "execute_result"
    }
   ],
   "source": [
    "x_all=data[\"#Passengers\"].values\n",
    "x_all=x_all/max(x_all)\n",
    "x_all"
   ]
  },
  {
   "cell_type": "code",
   "execution_count": 7,
   "metadata": {},
   "outputs": [
    {
     "data": {
      "text/plain": [
       "[<matplotlib.lines.Line2D at 0x1472c8bd0>]"
      ]
     },
     "execution_count": 7,
     "metadata": {},
     "output_type": "execute_result"
    },
    {
     "data": {
      "image/png": "[encoded data removed]",
      "text/plain": [
       "<Figure size 432x288 with 1 Axes>"
      ]
     },
     "metadata": {
      "needs_background": "light"
     },
     "output_type": "display_data"
    }
   ],
   "source": [
    "plt.plot(x_all)"
   ]
  },
  {
   "cell_type": "code",
   "execution_count": 30,
   "metadata": {},
   "outputs": [],
   "source": [
    "train=x_all[0:100]\n",
    "test=x_all[100:144]"
   ]
  },
  {
   "cell_type": "code",
   "execution_count": 31,
   "metadata": {},
   "outputs": [
    {
     "data": {
      "text/plain": [
       "((90, 10), (34, 10))"
      ]
     },
     "execution_count": 31,
     "metadata": {},
     "output_type": "execute_result"
    }
   ],
   "source": [
    "m = 10\n",
    "lst_inputs = []\n",
    "# по размерности среза формируем инпуты\n",
    "for i in range(train.shape[0]-m):\n",
    "    lst_inputs.append(train[i:m+i])\n",
    "\n",
    "x_train = np.array(lst_inputs) \n",
    "    \n",
    "lst_test_inputs = []\n",
    "# так же формируются тесты с срезами\n",
    "for i in range(test.shape[0]-m):\n",
    "    lst_test_inputs.append(test[i:m+i])\n",
    "x_test = np.array(lst_test_inputs)\n",
    "\n",
    "y_train=train[m:train.shape[0]]\n",
    "y_test=test[m:test.shape[0]]\n",
    "\n",
    "x_train.shape, x_test.shape"
   ]
  },
  {
   "cell_type": "code",
   "execution_count": 32,
   "metadata": {},
   "outputs": [
    {
     "data": {
      "text/plain": [
       "TensorShape([90, 1, 10])"
      ]
     },
     "execution_count": 32,
     "metadata": {},
     "output_type": "execute_result"
    }
   ],
   "source": [
    "import tensorflow as tf\n",
    "from keras import layers\n",
    "\n",
    "masking_layer = layers.Masking()\n",
    "unmasked_embedding = tf.cast(\n",
    "    tf.tile(tf.expand_dims(x_train, axis=1), [1, 1, 1]),\n",
    "    tf.float32)\n",
    "\n",
    "x_train_masked = masking_layer(unmasked_embedding)\n",
    "\n",
    "masking_layer = layers.Masking()\n",
    "unmasked_embedding = tf.cast(\n",
    "    tf.tile(tf.expand_dims(x_test, axis=1), [1, 1, 1]),\n",
    "    tf.float32)\n",
    "\n",
    "x_test_masked = masking_layer(unmasked_embedding)\n",
    "\n",
    "x_train_masked.shape"
   ]
  },
  {
   "cell_type": "code",
   "execution_count": 33,
   "metadata": {},
   "outputs": [
    {
     "name": "stdout",
     "output_type": "stream",
     "text": [
      "Model: \"RNN\"\n",
      "_________________________________________________________________\n",
      "Layer (type)                 Output Shape              Param #   \n",
      "=================================================================\n",
      "simple_rnn_5 (SimpleRNN)     (None, 10)                210       \n",
      "_________________________________________________________________\n",
      "dense_8 (Dense)              (None, 21)                231       \n",
      "_________________________________________________________________\n",
      "dense_9 (Dense)              (None, 1)                 22        \n",
      "=================================================================\n",
      "Total params: 463\n",
      "Trainable params: 463\n",
      "Non-trainable params: 0\n",
      "_________________________________________________________________\n"
     ]
    }
   ],
   "source": [
    "#Модель\n",
    "\n",
    "model=keras.Sequential(name=\"RNN\")\n",
    "model.add(layers.SimpleRNN(m, activation=\"tanh\", input_dim=m))\n",
    "model.add(layers.Dense(2*m+1, activation=\"sigmoid\"))\n",
    "model.add(layers.Dense(1, activation=\"sigmoid\"))\n",
    "\n",
    "model.summary()"
   ]
  },
  {
   "cell_type": "code",
   "execution_count": 34,
   "metadata": {},
   "outputs": [],
   "source": [
    "from keras import optimizers\n",
    "from keras import losses\n",
    "from keras import metrics\n",
    "\n",
    "opt=optimizers.SGD(learning_rate=0.7)\n",
    "f_loss=losses.MeanSquaredError()\n",
    "met=metrics.Accuracy()\n",
    "\n",
    "model.compile(\n",
    "    optimizer=opt,\n",
    "    loss=f_loss,\n",
    "    metrics=met,\n",
    ")"
   ]
  },
  {
   "cell_type": "code",
   "execution_count": 35,
   "metadata": {
    "scrolled": true
   },
   "outputs": [
    {
     "name": "stdout",
     "output_type": "stream",
     "text": [
      "Epoch 1/300\n",
      "90/90 [==============================] - 0s 4ms/step - loss: 0.0191 - accuracy: 0.0000e+00 - val_loss: 0.0846 - val_accuracy: 0.0000e+00\n",
      "Epoch 2/300\n",
      "90/90 [==============================] - 0s 2ms/step - loss: 0.0172 - accuracy: 0.0000e+00 - val_loss: 0.0741 - val_accuracy: 0.0000e+00\n",
      "Epoch 3/300\n",
      "90/90 [==============================] - 0s 2ms/step - loss: 0.0160 - accuracy: 0.0000e+00 - val_loss: 0.1109 - val_accuracy: 0.0000e+00\n",
      "Epoch 4/300\n",
      "90/90 [==============================] - 0s 2ms/step - loss: 0.0116 - accuracy: 0.0000e+00 - val_loss: 0.0178 - val_accuracy: 0.0000e+00\n",
      "Epoch 5/300\n",
      "90/90 [==============================] - 0s 2ms/step - loss: 0.0128 - accuracy: 0.0000e+00 - val_loss: 0.0548 - val_accuracy: 0.0000e+00\n",
      "Epoch 6/300\n",
      "90/90 [==============================] - 0s 2ms/step - loss: 0.0069 - accuracy: 0.0000e+00 - val_loss: 0.0583 - val_accuracy: 0.0000e+00\n",
      "Epoch 7/300\n",
      "90/90 [==============================] - 0s 2ms/step - loss: 0.0060 - accuracy: 0.0000e+00 - val_loss: 0.0409 - val_accuracy: 0.0000e+00\n",
      "Epoch 8/300\n",
      "90/90 [==============================] - 0s 2ms/step - loss: 0.0050 - accuracy: 0.0000e+00 - val_loss: 0.0405 - val_accuracy: 0.0000e+00\n",
      "Epoch 9/300\n",
      "90/90 [==============================] - 0s 2ms/step - loss: 0.0043 - accuracy: 0.0000e+00 - val_loss: 0.0293 - val_accuracy: 0.0000e+00\n",
      "Epoch 10/300\n",
      "90/90 [==============================] - 0s 2ms/step - loss: 0.0032 - accuracy: 0.0000e+00 - val_loss: 0.0248 - val_accuracy: 0.0000e+00\n",
      "Epoch 11/300\n",
      "90/90 [==============================] - 0s 2ms/step - loss: 0.0036 - accuracy: 0.0000e+00 - val_loss: 0.0227 - val_accuracy: 0.0000e+00\n",
      "Epoch 12/300\n",
      "90/90 [==============================] - 0s 2ms/step - loss: 0.0032 - accuracy: 0.0000e+00 - val_loss: 0.0211 - val_accuracy: 0.0000e+00\n",
      "Epoch 13/300\n",
      "90/90 [==============================] - 0s 2ms/step - loss: 0.0035 - accuracy: 0.0000e+00 - val_loss: 0.0211 - val_accuracy: 0.0000e+00\n",
      "Epoch 14/300\n",
      "90/90 [==============================] - 0s 2ms/step - loss: 0.0032 - accuracy: 0.0000e+00 - val_loss: 0.0158 - val_accuracy: 0.0000e+00\n",
      "Epoch 15/300\n",
      "90/90 [==============================] - 0s 2ms/step - loss: 0.0034 - accuracy: 0.0000e+00 - val_loss: 0.0157 - val_accuracy: 0.0000e+00\n",
      "Epoch 16/300\n",
      "90/90 [==============================] - 0s 2ms/step - loss: 0.0027 - accuracy: 0.0000e+00 - val_loss: 0.0163 - val_accuracy: 0.0000e+00\n",
      "Epoch 17/300\n",
      "90/90 [==============================] - 0s 2ms/step - loss: 0.0030 - accuracy: 0.0000e+00 - val_loss: 0.0130 - val_accuracy: 0.0000e+00\n",
      "Epoch 18/300\n",
      "90/90 [==============================] - 0s 2ms/step - loss: 0.0031 - accuracy: 0.0000e+00 - val_loss: 0.0147 - val_accuracy: 0.0000e+00\n",
      "Epoch 19/300\n",
      "90/90 [==============================] - 0s 2ms/step - loss: 0.0025 - accuracy: 0.0000e+00 - val_loss: 0.0129 - val_accuracy: 0.0000e+00\n",
      "Epoch 20/300\n",
      "90/90 [==============================] - 0s 2ms/step - loss: 0.0028 - accuracy: 0.0000e+00 - val_loss: 0.0144 - val_accuracy: 0.0000e+00\n",
      "Epoch 21/300\n",
      "90/90 [==============================] - 0s 2ms/step - loss: 0.0024 - accuracy: 0.0000e+00 - val_loss: 0.0110 - val_accuracy: 0.0000e+00\n",
      "Epoch 22/300\n",
      "90/90 [==============================] - 0s 2ms/step - loss: 0.0026 - accuracy: 0.0000e+00 - val_loss: 0.0133 - val_accuracy: 0.0000e+00\n",
      "Epoch 23/300\n",
      "90/90 [==============================] - 0s 2ms/step - loss: 0.0023 - accuracy: 0.0000e+00 - val_loss: 0.0107 - val_accuracy: 0.0000e+00\n",
      "Epoch 24/300\n",
      "90/90 [==============================] - 0s 2ms/step - loss: 0.0025 - accuracy: 0.0000e+00 - val_loss: 0.0099 - val_accuracy: 0.0000e+00\n",
      "Epoch 25/300\n",
      "90/90 [==============================] - 0s 2ms/step - loss: 0.0025 - accuracy: 0.0000e+00 - val_loss: 0.0091 - val_accuracy: 0.0000e+00\n",
      "Epoch 26/300\n",
      "90/90 [==============================] - 0s 2ms/step - loss: 0.0019 - accuracy: 0.0000e+00 - val_loss: 0.0091 - val_accuracy: 0.0000e+00\n",
      "Epoch 27/300\n",
      "90/90 [==============================] - 0s 2ms/step - loss: 0.0025 - accuracy: 0.0000e+00 - val_loss: 0.0105 - val_accuracy: 0.0000e+00\n",
      "Epoch 28/300\n",
      "90/90 [==============================] - 0s 2ms/step - loss: 0.0023 - accuracy: 0.0000e+00 - val_loss: 0.0107 - val_accuracy: 0.0000e+00\n",
      "Epoch 29/300\n",
      "90/90 [==============================] - 0s 2ms/step - loss: 0.0023 - accuracy: 0.0000e+00 - val_loss: 0.0084 - val_accuracy: 0.0000e+00\n",
      "Epoch 30/300\n",
      "90/90 [==============================] - 0s 2ms/step - loss: 0.0021 - accuracy: 0.0000e+00 - val_loss: 0.0168 - val_accuracy: 0.0000e+00\n",
      "Epoch 31/300\n",
      "90/90 [==============================] - 0s 2ms/step - loss: 0.0020 - accuracy: 0.0000e+00 - val_loss: 0.0114 - val_accuracy: 0.0000e+00\n",
      "Epoch 32/300\n",
      "90/90 [==============================] - 0s 2ms/step - loss: 0.0018 - accuracy: 0.0000e+00 - val_loss: 0.0143 - val_accuracy: 0.0000e+00\n",
      "Epoch 33/300\n",
      "90/90 [==============================] - 0s 2ms/step - loss: 0.0019 - accuracy: 0.0000e+00 - val_loss: 0.0095 - val_accuracy: 0.0000e+00\n",
      "Epoch 34/300\n",
      "90/90 [==============================] - 0s 2ms/step - loss: 0.0017 - accuracy: 0.0000e+00 - val_loss: 0.0079 - val_accuracy: 0.0000e+00\n",
      "Epoch 35/300\n",
      "90/90 [==============================] - 0s 2ms/step - loss: 0.0018 - accuracy: 0.0000e+00 - val_loss: 0.0107 - val_accuracy: 0.0000e+00\n",
      "Epoch 36/300\n",
      "90/90 [==============================] - 0s 2ms/step - loss: 0.0021 - accuracy: 0.0000e+00 - val_loss: 0.0142 - val_accuracy: 0.0000e+00\n",
      "Epoch 37/300\n",
      "90/90 [==============================] - 0s 2ms/step - loss: 0.0022 - accuracy: 0.0000e+00 - val_loss: 0.0077 - val_accuracy: 0.0000e+00\n",
      "Epoch 38/300\n",
      "90/90 [==============================] - 0s 2ms/step - loss: 0.0018 - accuracy: 0.0000e+00 - val_loss: 0.0076 - val_accuracy: 0.0000e+00\n",
      "Epoch 39/300\n",
      "90/90 [==============================] - 0s 2ms/step - loss: 0.0022 - accuracy: 0.0000e+00 - val_loss: 0.0149 - val_accuracy: 0.0000e+00\n",
      "Epoch 40/300\n",
      "90/90 [==============================] - 0s 2ms/step - loss: 0.0019 - accuracy: 0.0000e+00 - val_loss: 0.0075 - val_accuracy: 0.0000e+00\n",
      "Epoch 41/300\n",
      "90/90 [==============================] - 0s 2ms/step - loss: 0.0016 - accuracy: 0.0000e+00 - val_loss: 0.0082 - val_accuracy: 0.0000e+00\n",
      "Epoch 42/300\n",
      "90/90 [==============================] - 0s 2ms/step - loss: 0.0019 - accuracy: 0.0000e+00 - val_loss: 0.0104 - val_accuracy: 0.0000e+00\n",
      "Epoch 43/300\n",
      "90/90 [==============================] - 0s 2ms/step - loss: 0.0020 - accuracy: 0.0000e+00 - val_loss: 0.0101 - val_accuracy: 0.0000e+00\n",
      "Epoch 44/300\n",
      "90/90 [==============================] - 0s 2ms/step - loss: 0.0018 - accuracy: 0.0000e+00 - val_loss: 0.0097 - val_accuracy: 0.0000e+00\n",
      "Epoch 45/300\n",
      "90/90 [==============================] - 0s 2ms/step - loss: 0.0019 - accuracy: 0.0000e+00 - val_loss: 0.0079 - val_accuracy: 0.0000e+00\n",
      "Epoch 46/300\n",
      "90/90 [==============================] - 0s 2ms/step - loss: 0.0021 - accuracy: 0.0000e+00 - val_loss: 0.0083 - val_accuracy: 0.0000e+00\n",
      "Epoch 47/300\n",
      "90/90 [==============================] - 0s 2ms/step - loss: 0.0015 - accuracy: 0.0000e+00 - val_loss: 0.0083 - val_accuracy: 0.0000e+00\n",
      "Epoch 48/300\n",
      "90/90 [==============================] - 0s 2ms/step - loss: 0.0019 - accuracy: 0.0000e+00 - val_loss: 0.0088 - val_accuracy: 0.0000e+00\n",
      "Epoch 49/300\n",
      "90/90 [==============================] - 0s 2ms/step - loss: 0.0019 - accuracy: 0.0000e+00 - val_loss: 0.0112 - val_accuracy: 0.0000e+00\n",
      "Epoch 50/300\n",
      "90/90 [==============================] - 0s 2ms/step - loss: 0.0013 - accuracy: 0.0000e+00 - val_loss: 0.0118 - val_accuracy: 0.0000e+00\n",
      "Epoch 51/300\n",
      "90/90 [==============================] - 0s 2ms/step - loss: 0.0019 - accuracy: 0.0000e+00 - val_loss: 0.0117 - val_accuracy: 0.0000e+00\n",
      "Epoch 52/300\n",
      "90/90 [==============================] - 0s 2ms/step - loss: 0.0017 - accuracy: 0.0000e+00 - val_loss: 0.0077 - val_accuracy: 0.0000e+00\n",
      "Epoch 53/300\n",
      "90/90 [==============================] - 0s 2ms/step - loss: 0.0017 - accuracy: 0.0000e+00 - val_loss: 0.0098 - val_accuracy: 0.0000e+00\n",
      "Epoch 54/300\n",
      "90/90 [==============================] - 0s 2ms/step - loss: 0.0020 - accuracy: 0.0000e+00 - val_loss: 0.0100 - val_accuracy: 0.0000e+00\n",
      "Epoch 55/300\n",
      "90/90 [==============================] - 0s 2ms/step - loss: 0.0017 - accuracy: 0.0000e+00 - val_loss: 0.0070 - val_accuracy: 0.0000e+00\n"
     ]
    },
    {
     "name": "stdout",
     "output_type": "stream",
     "text": [
      "Epoch 56/300\n",
      "90/90 [==============================] - 0s 2ms/step - loss: 0.0015 - accuracy: 0.0000e+00 - val_loss: 0.0070 - val_accuracy: 0.0000e+00\n",
      "Epoch 57/300\n",
      "90/90 [==============================] - 0s 2ms/step - loss: 0.0015 - accuracy: 0.0000e+00 - val_loss: 0.0069 - val_accuracy: 0.0000e+00\n",
      "Epoch 58/300\n",
      "90/90 [==============================] - 0s 2ms/step - loss: 0.0016 - accuracy: 0.0000e+00 - val_loss: 0.0106 - val_accuracy: 0.0000e+00\n",
      "Epoch 59/300\n",
      "90/90 [==============================] - 0s 2ms/step - loss: 0.0019 - accuracy: 0.0000e+00 - val_loss: 0.0075 - val_accuracy: 0.0000e+00\n",
      "Epoch 60/300\n",
      "90/90 [==============================] - 0s 2ms/step - loss: 0.0019 - accuracy: 0.0000e+00 - val_loss: 0.0127 - val_accuracy: 0.0000e+00\n",
      "Epoch 61/300\n",
      "90/90 [==============================] - 0s 2ms/step - loss: 0.0017 - accuracy: 0.0000e+00 - val_loss: 0.0073 - val_accuracy: 0.0000e+00\n",
      "Epoch 62/300\n",
      "90/90 [==============================] - 0s 2ms/step - loss: 0.0018 - accuracy: 0.0000e+00 - val_loss: 0.0089 - val_accuracy: 0.0000e+00\n",
      "Epoch 63/300\n",
      "90/90 [==============================] - 0s 2ms/step - loss: 0.0019 - accuracy: 0.0000e+00 - val_loss: 0.0096 - val_accuracy: 0.0000e+00\n",
      "Epoch 64/300\n",
      "90/90 [==============================] - 0s 2ms/step - loss: 0.0017 - accuracy: 0.0000e+00 - val_loss: 0.0096 - val_accuracy: 0.0000e+00\n",
      "Epoch 65/300\n",
      "90/90 [==============================] - 0s 2ms/step - loss: 0.0016 - accuracy: 0.0000e+00 - val_loss: 0.0120 - val_accuracy: 0.0000e+00\n",
      "Epoch 66/300\n",
      "90/90 [==============================] - 0s 2ms/step - loss: 0.0015 - accuracy: 0.0000e+00 - val_loss: 0.0097 - val_accuracy: 0.0000e+00\n",
      "Epoch 67/300\n",
      "90/90 [==============================] - 0s 2ms/step - loss: 0.0017 - accuracy: 0.0000e+00 - val_loss: 0.0100 - val_accuracy: 0.0000e+00\n",
      "Epoch 68/300\n",
      "90/90 [==============================] - 0s 2ms/step - loss: 0.0017 - accuracy: 0.0000e+00 - val_loss: 0.0090 - val_accuracy: 0.0000e+00\n",
      "Epoch 69/300\n",
      "90/90 [==============================] - 0s 2ms/step - loss: 0.0019 - accuracy: 0.0000e+00 - val_loss: 0.0092 - val_accuracy: 0.0000e+00\n",
      "Epoch 70/300\n",
      "90/90 [==============================] - 0s 2ms/step - loss: 0.0013 - accuracy: 0.0000e+00 - val_loss: 0.0095 - val_accuracy: 0.0000e+00\n",
      "Epoch 71/300\n",
      "90/90 [==============================] - 0s 2ms/step - loss: 0.0015 - accuracy: 0.0000e+00 - val_loss: 0.0077 - val_accuracy: 0.0000e+00\n",
      "Epoch 72/300\n",
      "90/90 [==============================] - 0s 2ms/step - loss: 0.0013 - accuracy: 0.0000e+00 - val_loss: 0.0067 - val_accuracy: 0.0000e+00\n",
      "Epoch 73/300\n",
      "90/90 [==============================] - 0s 2ms/step - loss: 0.0014 - accuracy: 0.0000e+00 - val_loss: 0.0067 - val_accuracy: 0.0000e+00\n",
      "Epoch 74/300\n",
      "90/90 [==============================] - 0s 2ms/step - loss: 0.0018 - accuracy: 0.0000e+00 - val_loss: 0.0088 - val_accuracy: 0.0000e+00\n",
      "Epoch 75/300\n",
      "90/90 [==============================] - 0s 2ms/step - loss: 0.0017 - accuracy: 0.0000e+00 - val_loss: 0.0070 - val_accuracy: 0.0000e+00\n",
      "Epoch 76/300\n",
      "90/90 [==============================] - 0s 2ms/step - loss: 0.0016 - accuracy: 0.0000e+00 - val_loss: 0.0075 - val_accuracy: 0.0000e+00\n",
      "Epoch 77/300\n",
      "90/90 [==============================] - 0s 2ms/step - loss: 0.0019 - accuracy: 0.0000e+00 - val_loss: 0.0084 - val_accuracy: 0.0000e+00\n",
      "Epoch 78/300\n",
      "90/90 [==============================] - 0s 2ms/step - loss: 0.0014 - accuracy: 0.0000e+00 - val_loss: 0.0066 - val_accuracy: 0.0000e+00\n",
      "Epoch 79/300\n",
      "90/90 [==============================] - 0s 2ms/step - loss: 0.0017 - accuracy: 0.0000e+00 - val_loss: 0.0085 - val_accuracy: 0.0000e+00\n",
      "Epoch 80/300\n",
      "90/90 [==============================] - 0s 2ms/step - loss: 0.0015 - accuracy: 0.0000e+00 - val_loss: 0.0102 - val_accuracy: 0.0000e+00\n",
      "Epoch 81/300\n",
      "90/90 [==============================] - 0s 2ms/step - loss: 0.0015 - accuracy: 0.0000e+00 - val_loss: 0.0124 - val_accuracy: 0.0000e+00\n",
      "Epoch 82/300\n",
      "90/90 [==============================] - 0s 2ms/step - loss: 0.0016 - accuracy: 0.0000e+00 - val_loss: 0.0095 - val_accuracy: 0.0000e+00\n",
      "Epoch 83/300\n",
      "90/90 [==============================] - 0s 2ms/step - loss: 0.0015 - accuracy: 0.0000e+00 - val_loss: 0.0074 - val_accuracy: 0.0000e+00\n",
      "Epoch 84/300\n",
      "90/90 [==============================] - 0s 2ms/step - loss: 0.0017 - accuracy: 0.0000e+00 - val_loss: 0.0098 - val_accuracy: 0.0000e+00\n",
      "Epoch 85/300\n",
      "90/90 [==============================] - 0s 2ms/step - loss: 0.0015 - accuracy: 0.0000e+00 - val_loss: 0.0101 - val_accuracy: 0.0000e+00\n",
      "Epoch 86/300\n",
      "90/90 [==============================] - 0s 2ms/step - loss: 0.0016 - accuracy: 0.0000e+00 - val_loss: 0.0070 - val_accuracy: 0.0000e+00\n",
      "Epoch 87/300\n",
      "90/90 [==============================] - 0s 2ms/step - loss: 0.0015 - accuracy: 0.0000e+00 - val_loss: 0.0067 - val_accuracy: 0.0000e+00\n",
      "Epoch 88/300\n",
      "90/90 [==============================] - 0s 2ms/step - loss: 0.0014 - accuracy: 0.0000e+00 - val_loss: 0.0107 - val_accuracy: 0.0000e+00\n",
      "Epoch 89/300\n",
      "90/90 [==============================] - 0s 2ms/step - loss: 0.0015 - accuracy: 0.0000e+00 - val_loss: 0.0090 - val_accuracy: 0.0000e+00\n",
      "Epoch 90/300\n",
      "90/90 [==============================] - 0s 2ms/step - loss: 0.0015 - accuracy: 0.0000e+00 - val_loss: 0.0072 - val_accuracy: 0.0000e+00\n",
      "Epoch 91/300\n",
      "90/90 [==============================] - 0s 2ms/step - loss: 0.0018 - accuracy: 0.0000e+00 - val_loss: 0.0135 - val_accuracy: 0.0000e+00\n",
      "Epoch 92/300\n",
      "90/90 [==============================] - 0s 2ms/step - loss: 0.0016 - accuracy: 0.0000e+00 - val_loss: 0.0078 - val_accuracy: 0.0000e+00\n",
      "Epoch 93/300\n",
      "90/90 [==============================] - 0s 2ms/step - loss: 0.0017 - accuracy: 0.0000e+00 - val_loss: 0.0134 - val_accuracy: 0.0000e+00\n",
      "Epoch 94/300\n",
      "90/90 [==============================] - 0s 2ms/step - loss: 0.0017 - accuracy: 0.0000e+00 - val_loss: 0.0095 - val_accuracy: 0.0000e+00\n",
      "Epoch 95/300\n",
      "90/90 [==============================] - 0s 2ms/step - loss: 0.0016 - accuracy: 0.0000e+00 - val_loss: 0.0080 - val_accuracy: 0.0000e+00\n",
      "Epoch 96/300\n",
      "90/90 [==============================] - 0s 2ms/step - loss: 0.0014 - accuracy: 0.0000e+00 - val_loss: 0.0097 - val_accuracy: 0.0000e+00\n",
      "Epoch 97/300\n",
      "90/90 [==============================] - 0s 2ms/step - loss: 0.0016 - accuracy: 0.0000e+00 - val_loss: 0.0092 - val_accuracy: 0.0000e+00\n",
      "Epoch 98/300\n",
      "90/90 [==============================] - 0s 2ms/step - loss: 0.0014 - accuracy: 0.0000e+00 - val_loss: 0.0126 - val_accuracy: 0.0000e+00\n",
      "Epoch 99/300\n",
      "90/90 [==============================] - 0s 2ms/step - loss: 0.0016 - accuracy: 0.0000e+00 - val_loss: 0.0113 - val_accuracy: 0.0000e+00\n",
      "Epoch 100/300\n",
      "90/90 [==============================] - 0s 2ms/step - loss: 0.0014 - accuracy: 0.0000e+00 - val_loss: 0.0117 - val_accuracy: 0.0000e+00\n",
      "Epoch 101/300\n",
      "90/90 [==============================] - 0s 2ms/step - loss: 0.0016 - accuracy: 0.0000e+00 - val_loss: 0.0086 - val_accuracy: 0.0000e+00\n",
      "Epoch 102/300\n",
      "90/90 [==============================] - 0s 2ms/step - loss: 0.0018 - accuracy: 0.0000e+00 - val_loss: 0.0097 - val_accuracy: 0.0000e+00\n",
      "Epoch 103/300\n",
      "90/90 [==============================] - 0s 2ms/step - loss: 0.0015 - accuracy: 0.0000e+00 - val_loss: 0.0089 - val_accuracy: 0.0000e+00\n",
      "Epoch 104/300\n",
      "90/90 [==============================] - 0s 2ms/step - loss: 0.0017 - accuracy: 0.0000e+00 - val_loss: 0.0120 - val_accuracy: 0.0000e+00\n",
      "Epoch 105/300\n",
      "90/90 [==============================] - 0s 2ms/step - loss: 0.0017 - accuracy: 0.0000e+00 - val_loss: 0.0115 - val_accuracy: 0.0000e+00\n",
      "Epoch 106/300\n",
      "90/90 [==============================] - 0s 2ms/step - loss: 0.0015 - accuracy: 0.0000e+00 - val_loss: 0.0076 - val_accuracy: 0.0000e+00\n",
      "Epoch 107/300\n",
      "90/90 [==============================] - 0s 2ms/step - loss: 0.0015 - accuracy: 0.0000e+00 - val_loss: 0.0113 - val_accuracy: 0.0000e+00\n",
      "Epoch 108/300\n",
      "90/90 [==============================] - 0s 2ms/step - loss: 0.0016 - accuracy: 0.0000e+00 - val_loss: 0.0100 - val_accuracy: 0.0000e+00\n",
      "Epoch 109/300\n",
      "90/90 [==============================] - 0s 2ms/step - loss: 0.0017 - accuracy: 0.0000e+00 - val_loss: 0.0061 - val_accuracy: 0.0000e+00\n",
      "Epoch 110/300\n"
     ]
    },
    {
     "name": "stdout",
     "output_type": "stream",
     "text": [
      "90/90 [==============================] - 0s 2ms/step - loss: 0.0015 - accuracy: 0.0000e+00 - val_loss: 0.0110 - val_accuracy: 0.0000e+00\n",
      "Epoch 111/300\n",
      "90/90 [==============================] - 0s 2ms/step - loss: 0.0017 - accuracy: 0.0000e+00 - val_loss: 0.0069 - val_accuracy: 0.0000e+00\n",
      "Epoch 112/300\n",
      "90/90 [==============================] - 0s 2ms/step - loss: 0.0015 - accuracy: 0.0000e+00 - val_loss: 0.0069 - val_accuracy: 0.0000e+00\n",
      "Epoch 113/300\n",
      "90/90 [==============================] - 0s 2ms/step - loss: 0.0014 - accuracy: 0.0000e+00 - val_loss: 0.0061 - val_accuracy: 0.0000e+00\n",
      "Epoch 114/300\n",
      "90/90 [==============================] - 0s 2ms/step - loss: 0.0017 - accuracy: 0.0000e+00 - val_loss: 0.0068 - val_accuracy: 0.0000e+00\n",
      "Epoch 115/300\n",
      "90/90 [==============================] - 0s 2ms/step - loss: 0.0015 - accuracy: 0.0000e+00 - val_loss: 0.0074 - val_accuracy: 0.0000e+00\n",
      "Epoch 116/300\n",
      "90/90 [==============================] - 0s 2ms/step - loss: 0.0014 - accuracy: 0.0000e+00 - val_loss: 0.0104 - val_accuracy: 0.0000e+00\n",
      "Epoch 117/300\n",
      "90/90 [==============================] - 0s 2ms/step - loss: 0.0013 - accuracy: 0.0000e+00 - val_loss: 0.0081 - val_accuracy: 0.0000e+00\n",
      "Epoch 118/300\n",
      "90/90 [==============================] - 0s 2ms/step - loss: 0.0015 - accuracy: 0.0000e+00 - val_loss: 0.0106 - val_accuracy: 0.0000e+00\n",
      "Epoch 119/300\n",
      "90/90 [==============================] - 0s 2ms/step - loss: 0.0016 - accuracy: 0.0000e+00 - val_loss: 0.0079 - val_accuracy: 0.0000e+00\n",
      "Epoch 120/300\n",
      "90/90 [==============================] - 0s 2ms/step - loss: 0.0017 - accuracy: 0.0000e+00 - val_loss: 0.0096 - val_accuracy: 0.0000e+00\n",
      "Epoch 121/300\n",
      "90/90 [==============================] - 0s 2ms/step - loss: 0.0014 - accuracy: 0.0000e+00 - val_loss: 0.0071 - val_accuracy: 0.0000e+00\n",
      "Epoch 122/300\n",
      "90/90 [==============================] - 0s 2ms/step - loss: 0.0013 - accuracy: 0.0000e+00 - val_loss: 0.0066 - val_accuracy: 0.0000e+00\n",
      "Epoch 123/300\n",
      "90/90 [==============================] - 0s 2ms/step - loss: 0.0014 - accuracy: 0.0000e+00 - val_loss: 0.0078 - val_accuracy: 0.0000e+00\n",
      "Epoch 124/300\n",
      "90/90 [==============================] - 0s 2ms/step - loss: 0.0012 - accuracy: 0.0000e+00 - val_loss: 0.0090 - val_accuracy: 0.0000e+00\n",
      "Epoch 125/300\n",
      "90/90 [==============================] - 0s 2ms/step - loss: 0.0016 - accuracy: 0.0000e+00 - val_loss: 0.0070 - val_accuracy: 0.0000e+00\n",
      "Epoch 126/300\n",
      "90/90 [==============================] - 0s 2ms/step - loss: 0.0013 - accuracy: 0.0000e+00 - val_loss: 0.0126 - val_accuracy: 0.0000e+00\n",
      "Epoch 127/300\n",
      "90/90 [==============================] - 0s 2ms/step - loss: 0.0015 - accuracy: 0.0000e+00 - val_loss: 0.0105 - val_accuracy: 0.0000e+00\n",
      "Epoch 128/300\n",
      "90/90 [==============================] - 0s 2ms/step - loss: 0.0016 - accuracy: 0.0000e+00 - val_loss: 0.0063 - val_accuracy: 0.0000e+00\n",
      "Epoch 129/300\n",
      "90/90 [==============================] - 0s 2ms/step - loss: 0.0014 - accuracy: 0.0000e+00 - val_loss: 0.0089 - val_accuracy: 0.0000e+00\n",
      "Epoch 130/300\n",
      "90/90 [==============================] - 0s 2ms/step - loss: 0.0015 - accuracy: 0.0000e+00 - val_loss: 0.0092 - val_accuracy: 0.0000e+00\n",
      "Epoch 131/300\n",
      "90/90 [==============================] - 0s 2ms/step - loss: 0.0015 - accuracy: 0.0000e+00 - val_loss: 0.0124 - val_accuracy: 0.0000e+00\n",
      "Epoch 132/300\n",
      "90/90 [==============================] - 0s 2ms/step - loss: 0.0015 - accuracy: 0.0000e+00 - val_loss: 0.0090 - val_accuracy: 0.0000e+00\n",
      "Epoch 133/300\n",
      "90/90 [==============================] - 0s 2ms/step - loss: 0.0014 - accuracy: 0.0000e+00 - val_loss: 0.0081 - val_accuracy: 0.0000e+00\n",
      "Epoch 134/300\n",
      "90/90 [==============================] - 0s 2ms/step - loss: 0.0015 - accuracy: 0.0000e+00 - val_loss: 0.0069 - val_accuracy: 0.0000e+00\n",
      "Epoch 135/300\n",
      "90/90 [==============================] - 0s 2ms/step - loss: 0.0014 - accuracy: 0.0000e+00 - val_loss: 0.0071 - val_accuracy: 0.0000e+00\n",
      "Epoch 136/300\n",
      "90/90 [==============================] - 0s 2ms/step - loss: 0.0014 - accuracy: 0.0000e+00 - val_loss: 0.0062 - val_accuracy: 0.0000e+00\n",
      "Epoch 137/300\n",
      "90/90 [==============================] - 0s 2ms/step - loss: 0.0015 - accuracy: 0.0000e+00 - val_loss: 0.0060 - val_accuracy: 0.0000e+00\n",
      "Epoch 138/300\n",
      "90/90 [==============================] - 0s 2ms/step - loss: 0.0015 - accuracy: 0.0000e+00 - val_loss: 0.0114 - val_accuracy: 0.0000e+00\n",
      "Epoch 139/300\n",
      "90/90 [==============================] - 0s 2ms/step - loss: 0.0014 - accuracy: 0.0000e+00 - val_loss: 0.0083 - val_accuracy: 0.0000e+00\n",
      "Epoch 140/300\n",
      "90/90 [==============================] - 0s 2ms/step - loss: 0.0014 - accuracy: 0.0000e+00 - val_loss: 0.0085 - val_accuracy: 0.0000e+00\n",
      "Epoch 141/300\n",
      "90/90 [==============================] - 0s 2ms/step - loss: 0.0015 - accuracy: 0.0000e+00 - val_loss: 0.0079 - val_accuracy: 0.0000e+00\n",
      "Epoch 142/300\n",
      "90/90 [==============================] - 0s 2ms/step - loss: 0.0015 - accuracy: 0.0000e+00 - val_loss: 0.0072 - val_accuracy: 0.0000e+00\n",
      "Epoch 143/300\n",
      "90/90 [==============================] - 0s 2ms/step - loss: 0.0015 - accuracy: 0.0000e+00 - val_loss: 0.0092 - val_accuracy: 0.0000e+00\n",
      "Epoch 144/300\n",
      "90/90 [==============================] - 0s 2ms/step - loss: 0.0015 - accuracy: 0.0000e+00 - val_loss: 0.0081 - val_accuracy: 0.0000e+00\n",
      "Epoch 145/300\n",
      "90/90 [==============================] - 0s 2ms/step - loss: 0.0013 - accuracy: 0.0000e+00 - val_loss: 0.0126 - val_accuracy: 0.0000e+00\n",
      "Epoch 146/300\n",
      "90/90 [==============================] - 0s 2ms/step - loss: 0.0015 - accuracy: 0.0000e+00 - val_loss: 0.0072 - val_accuracy: 0.0000e+00\n",
      "Epoch 147/300\n",
      "90/90 [==============================] - 0s 2ms/step - loss: 0.0013 - accuracy: 0.0000e+00 - val_loss: 0.0110 - val_accuracy: 0.0000e+00\n",
      "Epoch 148/300\n",
      "90/90 [==============================] - 0s 2ms/step - loss: 0.0014 - accuracy: 0.0000e+00 - val_loss: 0.0066 - val_accuracy: 0.0000e+00\n",
      "Epoch 149/300\n",
      "90/90 [==============================] - 0s 2ms/step - loss: 0.0014 - accuracy: 0.0000e+00 - val_loss: 0.0098 - val_accuracy: 0.0000e+00\n",
      "Epoch 150/300\n",
      "90/90 [==============================] - 0s 2ms/step - loss: 0.0015 - accuracy: 0.0000e+00 - val_loss: 0.0110 - val_accuracy: 0.0000e+00\n",
      "Epoch 151/300\n",
      "90/90 [==============================] - 0s 2ms/step - loss: 0.0014 - accuracy: 0.0000e+00 - val_loss: 0.0103 - val_accuracy: 0.0000e+00\n",
      "Epoch 152/300\n",
      "90/90 [==============================] - 0s 2ms/step - loss: 0.0013 - accuracy: 0.0000e+00 - val_loss: 0.0073 - val_accuracy: 0.0000e+00\n",
      "Epoch 153/300\n",
      "90/90 [==============================] - 0s 2ms/step - loss: 0.0013 - accuracy: 0.0000e+00 - val_loss: 0.0085 - val_accuracy: 0.0000e+00\n",
      "Epoch 154/300\n",
      "90/90 [==============================] - 0s 2ms/step - loss: 0.0014 - accuracy: 0.0000e+00 - val_loss: 0.0128 - val_accuracy: 0.0000e+00\n",
      "Epoch 155/300\n",
      "90/90 [==============================] - 0s 2ms/step - loss: 0.0014 - accuracy: 0.0000e+00 - val_loss: 0.0073 - val_accuracy: 0.0000e+00\n",
      "Epoch 156/300\n",
      "90/90 [==============================] - 0s 2ms/step - loss: 0.0014 - accuracy: 0.0000e+00 - val_loss: 0.0119 - val_accuracy: 0.0000e+00\n",
      "Epoch 157/300\n",
      "90/90 [==============================] - 0s 2ms/step - loss: 0.0015 - accuracy: 0.0000e+00 - val_loss: 0.0111 - val_accuracy: 0.0000e+00\n",
      "Epoch 158/300\n",
      "90/90 [==============================] - 0s 2ms/step - loss: 0.0015 - accuracy: 0.0000e+00 - val_loss: 0.0106 - val_accuracy: 0.0000e+00\n",
      "Epoch 159/300\n",
      "90/90 [==============================] - 0s 2ms/step - loss: 0.0013 - accuracy: 0.0000e+00 - val_loss: 0.0067 - val_accuracy: 0.0000e+00\n",
      "Epoch 160/300\n",
      "90/90 [==============================] - 0s 2ms/step - loss: 0.0014 - accuracy: 0.0000e+00 - val_loss: 0.0077 - val_accuracy: 0.0000e+00\n",
      "Epoch 161/300\n",
      "90/90 [==============================] - 0s 2ms/step - loss: 0.0013 - accuracy: 0.0000e+00 - val_loss: 0.0131 - val_accuracy: 0.0000e+00\n",
      "Epoch 162/300\n",
      "90/90 [==============================] - 0s 2ms/step - loss: 0.0014 - accuracy: 0.0000e+00 - val_loss: 0.0067 - val_accuracy: 0.0000e+00\n",
      "Epoch 163/300\n",
      "90/90 [==============================] - 0s 2ms/step - loss: 0.0013 - accuracy: 0.0000e+00 - val_loss: 0.0121 - val_accuracy: 0.0000e+00\n",
      "Epoch 164/300\n"
     ]
    },
    {
     "name": "stdout",
     "output_type": "stream",
     "text": [
      "90/90 [==============================] - 0s 2ms/step - loss: 0.0012 - accuracy: 0.0000e+00 - val_loss: 0.0117 - val_accuracy: 0.0000e+00\n",
      "Epoch 165/300\n",
      "90/90 [==============================] - 0s 2ms/step - loss: 0.0015 - accuracy: 0.0000e+00 - val_loss: 0.0082 - val_accuracy: 0.0000e+00\n",
      "Epoch 166/300\n",
      "90/90 [==============================] - 0s 2ms/step - loss: 0.0015 - accuracy: 0.0000e+00 - val_loss: 0.0086 - val_accuracy: 0.0000e+00\n",
      "Epoch 167/300\n",
      "90/90 [==============================] - 0s 1ms/step - loss: 0.0015 - accuracy: 0.0000e+00 - val_loss: 0.0089 - val_accuracy: 0.0000e+00\n",
      "Epoch 168/300\n",
      "90/90 [==============================] - 0s 2ms/step - loss: 0.0014 - accuracy: 0.0000e+00 - val_loss: 0.0103 - val_accuracy: 0.0000e+00\n",
      "Epoch 169/300\n",
      "90/90 [==============================] - 0s 2ms/step - loss: 0.0014 - accuracy: 0.0000e+00 - val_loss: 0.0114 - val_accuracy: 0.0000e+00\n",
      "Epoch 170/300\n",
      "90/90 [==============================] - 0s 2ms/step - loss: 0.0014 - accuracy: 0.0000e+00 - val_loss: 0.0156 - val_accuracy: 0.0000e+00\n",
      "Epoch 171/300\n",
      "90/90 [==============================] - 0s 2ms/step - loss: 0.0014 - accuracy: 0.0000e+00 - val_loss: 0.0082 - val_accuracy: 0.0000e+00\n",
      "Epoch 172/300\n",
      "90/90 [==============================] - 0s 2ms/step - loss: 0.0014 - accuracy: 0.0000e+00 - val_loss: 0.0081 - val_accuracy: 0.0000e+00\n",
      "Epoch 173/300\n",
      "90/90 [==============================] - 0s 2ms/step - loss: 0.0012 - accuracy: 0.0000e+00 - val_loss: 0.0096 - val_accuracy: 0.0000e+00\n",
      "Epoch 174/300\n",
      "90/90 [==============================] - 0s 2ms/step - loss: 0.0013 - accuracy: 0.0000e+00 - val_loss: 0.0105 - val_accuracy: 0.0000e+00\n",
      "Epoch 175/300\n",
      "90/90 [==============================] - 0s 2ms/step - loss: 0.0011 - accuracy: 0.0000e+00 - val_loss: 0.0073 - val_accuracy: 0.0000e+00\n",
      "Epoch 176/300\n",
      "90/90 [==============================] - 0s 2ms/step - loss: 0.0015 - accuracy: 0.0000e+00 - val_loss: 0.0103 - val_accuracy: 0.0000e+00\n",
      "Epoch 177/300\n",
      "90/90 [==============================] - 0s 2ms/step - loss: 0.0014 - accuracy: 0.0000e+00 - val_loss: 0.0096 - val_accuracy: 0.0000e+00\n",
      "Epoch 178/300\n",
      "90/90 [==============================] - 0s 2ms/step - loss: 0.0011 - accuracy: 0.0000e+00 - val_loss: 0.0061 - val_accuracy: 0.0000e+00\n",
      "Epoch 179/300\n",
      "90/90 [==============================] - 0s 2ms/step - loss: 0.0013 - accuracy: 0.0000e+00 - val_loss: 0.0067 - val_accuracy: 0.0000e+00\n",
      "Epoch 180/300\n",
      "90/90 [==============================] - 0s 2ms/step - loss: 0.0013 - accuracy: 0.0000e+00 - val_loss: 0.0099 - val_accuracy: 0.0000e+00\n",
      "Epoch 181/300\n",
      "90/90 [==============================] - 0s 2ms/step - loss: 0.0013 - accuracy: 0.0000e+00 - val_loss: 0.0101 - val_accuracy: 0.0000e+00\n",
      "Epoch 182/300\n",
      "90/90 [==============================] - 0s 2ms/step - loss: 0.0013 - accuracy: 0.0000e+00 - val_loss: 0.0065 - val_accuracy: 0.0000e+00\n",
      "Epoch 183/300\n",
      "90/90 [==============================] - 0s 2ms/step - loss: 0.0014 - accuracy: 0.0000e+00 - val_loss: 0.0078 - val_accuracy: 0.0000e+00\n",
      "Epoch 184/300\n",
      "90/90 [==============================] - 0s 2ms/step - loss: 0.0014 - accuracy: 0.0000e+00 - val_loss: 0.0103 - val_accuracy: 0.0000e+00\n",
      "Epoch 185/300\n",
      "90/90 [==============================] - 0s 2ms/step - loss: 0.0014 - accuracy: 0.0000e+00 - val_loss: 0.0110 - val_accuracy: 0.0000e+00\n",
      "Epoch 186/300\n",
      "90/90 [==============================] - 0s 2ms/step - loss: 0.0013 - accuracy: 0.0000e+00 - val_loss: 0.0068 - val_accuracy: 0.0000e+00\n",
      "Epoch 187/300\n",
      "90/90 [==============================] - 0s 2ms/step - loss: 0.0012 - accuracy: 0.0000e+00 - val_loss: 0.0121 - val_accuracy: 0.0000e+00\n",
      "Epoch 188/300\n",
      "90/90 [==============================] - 0s 2ms/step - loss: 0.0014 - accuracy: 0.0000e+00 - val_loss: 0.0095 - val_accuracy: 0.0000e+00\n",
      "Epoch 189/300\n",
      "90/90 [==============================] - 0s 2ms/step - loss: 0.0014 - accuracy: 0.0000e+00 - val_loss: 0.0121 - val_accuracy: 0.0000e+00\n",
      "Epoch 190/300\n",
      "90/90 [==============================] - 0s 2ms/step - loss: 0.0013 - accuracy: 0.0000e+00 - val_loss: 0.0070 - val_accuracy: 0.0000e+00\n",
      "Epoch 191/300\n",
      "90/90 [==============================] - 0s 2ms/step - loss: 0.0015 - accuracy: 0.0000e+00 - val_loss: 0.0070 - val_accuracy: 0.0000e+00\n",
      "Epoch 192/300\n",
      "90/90 [==============================] - 0s 2ms/step - loss: 0.0013 - accuracy: 0.0000e+00 - val_loss: 0.0076 - val_accuracy: 0.0000e+00\n",
      "Epoch 193/300\n",
      "90/90 [==============================] - 0s 2ms/step - loss: 0.0012 - accuracy: 0.0000e+00 - val_loss: 0.0069 - val_accuracy: 0.0000e+00\n",
      "Epoch 194/300\n",
      "90/90 [==============================] - 0s 2ms/step - loss: 0.0013 - accuracy: 0.0000e+00 - val_loss: 0.0108 - val_accuracy: 0.0000e+00\n",
      "Epoch 195/300\n",
      "90/90 [==============================] - 0s 2ms/step - loss: 0.0013 - accuracy: 0.0000e+00 - val_loss: 0.0099 - val_accuracy: 0.0000e+00\n",
      "Epoch 196/300\n",
      "90/90 [==============================] - 0s 2ms/step - loss: 0.0013 - accuracy: 0.0000e+00 - val_loss: 0.0092 - val_accuracy: 0.0000e+00\n",
      "Epoch 197/300\n",
      "90/90 [==============================] - 0s 2ms/step - loss: 0.0014 - accuracy: 0.0000e+00 - val_loss: 0.0123 - val_accuracy: 0.0000e+00\n",
      "Epoch 198/300\n",
      "90/90 [==============================] - 0s 2ms/step - loss: 0.0013 - accuracy: 0.0000e+00 - val_loss: 0.0102 - val_accuracy: 0.0000e+00\n",
      "Epoch 199/300\n",
      "90/90 [==============================] - 0s 2ms/step - loss: 0.0012 - accuracy: 0.0000e+00 - val_loss: 0.0075 - val_accuracy: 0.0000e+00\n",
      "Epoch 200/300\n",
      "90/90 [==============================] - 0s 2ms/step - loss: 0.0013 - accuracy: 0.0000e+00 - val_loss: 0.0091 - val_accuracy: 0.0000e+00\n",
      "Epoch 201/300\n",
      "90/90 [==============================] - 0s 2ms/step - loss: 0.0014 - accuracy: 0.0000e+00 - val_loss: 0.0064 - val_accuracy: 0.0000e+00\n",
      "Epoch 202/300\n",
      "90/90 [==============================] - 0s 2ms/step - loss: 0.0015 - accuracy: 0.0000e+00 - val_loss: 0.0103 - val_accuracy: 0.0000e+00\n",
      "Epoch 203/300\n",
      "90/90 [==============================] - 0s 2ms/step - loss: 0.0012 - accuracy: 0.0000e+00 - val_loss: 0.0079 - val_accuracy: 0.0000e+00\n",
      "Epoch 204/300\n",
      "90/90 [==============================] - 0s 2ms/step - loss: 0.0015 - accuracy: 0.0000e+00 - val_loss: 0.0124 - val_accuracy: 0.0000e+00\n",
      "Epoch 205/300\n",
      "90/90 [==============================] - 0s 2ms/step - loss: 0.0014 - accuracy: 0.0000e+00 - val_loss: 0.0072 - val_accuracy: 0.0000e+00\n",
      "Epoch 206/300\n",
      "90/90 [==============================] - 0s 2ms/step - loss: 0.0013 - accuracy: 0.0000e+00 - val_loss: 0.0095 - val_accuracy: 0.0000e+00\n",
      "Epoch 207/300\n",
      "90/90 [==============================] - 0s 1ms/step - loss: 0.0012 - accuracy: 0.0000e+00 - val_loss: 0.0087 - val_accuracy: 0.0000e+00\n",
      "Epoch 208/300\n",
      "90/90 [==============================] - 0s 2ms/step - loss: 0.0012 - accuracy: 0.0000e+00 - val_loss: 0.0078 - val_accuracy: 0.0000e+00\n",
      "Epoch 209/300\n",
      "90/90 [==============================] - 0s 2ms/step - loss: 0.0014 - accuracy: 0.0000e+00 - val_loss: 0.0060 - val_accuracy: 0.0000e+00\n",
      "Epoch 210/300\n",
      "90/90 [==============================] - 0s 2ms/step - loss: 0.0011 - accuracy: 0.0000e+00 - val_loss: 0.0120 - val_accuracy: 0.0000e+00\n",
      "Epoch 211/300\n",
      "90/90 [==============================] - 0s 2ms/step - loss: 0.0013 - accuracy: 0.0000e+00 - val_loss: 0.0110 - val_accuracy: 0.0000e+00\n",
      "Epoch 212/300\n",
      "90/90 [==============================] - 0s 2ms/step - loss: 0.0012 - accuracy: 0.0000e+00 - val_loss: 0.0085 - val_accuracy: 0.0000e+00\n",
      "Epoch 213/300\n",
      "90/90 [==============================] - 0s 2ms/step - loss: 0.0012 - accuracy: 0.0000e+00 - val_loss: 0.0105 - val_accuracy: 0.0000e+00\n",
      "Epoch 214/300\n",
      "90/90 [==============================] - 0s 2ms/step - loss: 0.0010 - accuracy: 0.0000e+00 - val_loss: 0.0057 - val_accuracy: 0.0000e+00\n",
      "Epoch 215/300\n",
      "90/90 [==============================] - 0s 2ms/step - loss: 0.0014 - accuracy: 0.0000e+00 - val_loss: 0.0080 - val_accuracy: 0.0000e+00\n",
      "Epoch 216/300\n",
      "90/90 [==============================] - 0s 2ms/step - loss: 0.0014 - accuracy: 0.0000e+00 - val_loss: 0.0110 - val_accuracy: 0.0000e+00\n",
      "Epoch 217/300\n",
      "90/90 [==============================] - 0s 2ms/step - loss: 0.0015 - accuracy: 0.0000e+00 - val_loss: 0.0123 - val_accuracy: 0.0000e+00\n",
      "Epoch 218/300\n"
     ]
    },
    {
     "name": "stdout",
     "output_type": "stream",
     "text": [
      "90/90 [==============================] - 0s 2ms/step - loss: 0.0012 - accuracy: 0.0000e+00 - val_loss: 0.0058 - val_accuracy: 0.0000e+00\n",
      "Epoch 219/300\n",
      "90/90 [==============================] - 0s 2ms/step - loss: 0.0013 - accuracy: 0.0000e+00 - val_loss: 0.0095 - val_accuracy: 0.0000e+00\n",
      "Epoch 220/300\n",
      "90/90 [==============================] - 0s 2ms/step - loss: 0.0012 - accuracy: 0.0000e+00 - val_loss: 0.0088 - val_accuracy: 0.0000e+00\n",
      "Epoch 221/300\n",
      "90/90 [==============================] - 0s 2ms/step - loss: 0.0012 - accuracy: 0.0000e+00 - val_loss: 0.0121 - val_accuracy: 0.0000e+00\n",
      "Epoch 222/300\n",
      "90/90 [==============================] - 0s 2ms/step - loss: 0.0011 - accuracy: 0.0000e+00 - val_loss: 0.0058 - val_accuracy: 0.0000e+00\n",
      "Epoch 223/300\n",
      "90/90 [==============================] - 0s 2ms/step - loss: 0.0013 - accuracy: 0.0000e+00 - val_loss: 0.0063 - val_accuracy: 0.0000e+00\n",
      "Epoch 224/300\n",
      "90/90 [==============================] - 0s 2ms/step - loss: 0.0013 - accuracy: 0.0000e+00 - val_loss: 0.0078 - val_accuracy: 0.0000e+00\n",
      "Epoch 225/300\n",
      "90/90 [==============================] - 0s 2ms/step - loss: 0.0012 - accuracy: 0.0000e+00 - val_loss: 0.0076 - val_accuracy: 0.0000e+00\n",
      "Epoch 226/300\n",
      "90/90 [==============================] - 0s 2ms/step - loss: 0.0012 - accuracy: 0.0000e+00 - val_loss: 0.0119 - val_accuracy: 0.0000e+00\n",
      "Epoch 227/300\n",
      "90/90 [==============================] - 0s 2ms/step - loss: 0.0013 - accuracy: 0.0000e+00 - val_loss: 0.0061 - val_accuracy: 0.0000e+00\n",
      "Epoch 228/300\n",
      "90/90 [==============================] - 0s 2ms/step - loss: 0.0012 - accuracy: 0.0000e+00 - val_loss: 0.0074 - val_accuracy: 0.0000e+00\n",
      "Epoch 229/300\n",
      "90/90 [==============================] - 0s 2ms/step - loss: 0.0012 - accuracy: 0.0000e+00 - val_loss: 0.0065 - val_accuracy: 0.0000e+00\n",
      "Epoch 230/300\n",
      "90/90 [==============================] - 0s 2ms/step - loss: 0.0014 - accuracy: 0.0000e+00 - val_loss: 0.0109 - val_accuracy: 0.0000e+00\n",
      "Epoch 231/300\n",
      "90/90 [==============================] - 0s 2ms/step - loss: 0.0012 - accuracy: 0.0000e+00 - val_loss: 0.0070 - val_accuracy: 0.0000e+00\n",
      "Epoch 232/300\n",
      "90/90 [==============================] - 0s 2ms/step - loss: 0.0013 - accuracy: 0.0000e+00 - val_loss: 0.0071 - val_accuracy: 0.0000e+00\n",
      "Epoch 233/300\n",
      "90/90 [==============================] - 0s 2ms/step - loss: 0.0013 - accuracy: 0.0000e+00 - val_loss: 0.0100 - val_accuracy: 0.0000e+00\n",
      "Epoch 234/300\n",
      "90/90 [==============================] - 0s 2ms/step - loss: 0.0012 - accuracy: 0.0000e+00 - val_loss: 0.0090 - val_accuracy: 0.0000e+00\n",
      "Epoch 235/300\n",
      "90/90 [==============================] - 0s 2ms/step - loss: 0.0012 - accuracy: 0.0000e+00 - val_loss: 0.0098 - val_accuracy: 0.0000e+00\n",
      "Epoch 236/300\n",
      "90/90 [==============================] - 0s 2ms/step - loss: 0.0014 - accuracy: 0.0000e+00 - val_loss: 0.0060 - val_accuracy: 0.0000e+00\n",
      "Epoch 237/300\n",
      "90/90 [==============================] - 0s 2ms/step - loss: 0.0013 - accuracy: 0.0000e+00 - val_loss: 0.0085 - val_accuracy: 0.0000e+00\n",
      "Epoch 238/300\n",
      "90/90 [==============================] - 0s 2ms/step - loss: 0.0012 - accuracy: 0.0000e+00 - val_loss: 0.0073 - val_accuracy: 0.0000e+00\n",
      "Epoch 239/300\n",
      "90/90 [==============================] - 0s 2ms/step - loss: 0.0012 - accuracy: 0.0000e+00 - val_loss: 0.0108 - val_accuracy: 0.0000e+00\n",
      "Epoch 240/300\n",
      "90/90 [==============================] - 0s 2ms/step - loss: 0.0013 - accuracy: 0.0000e+00 - val_loss: 0.0070 - val_accuracy: 0.0000e+00\n",
      "Epoch 241/300\n",
      "90/90 [==============================] - 0s 2ms/step - loss: 0.0012 - accuracy: 0.0000e+00 - val_loss: 0.0097 - val_accuracy: 0.0000e+00\n",
      "Epoch 242/300\n",
      "90/90 [==============================] - 0s 2ms/step - loss: 0.0013 - accuracy: 0.0000e+00 - val_loss: 0.0072 - val_accuracy: 0.0000e+00\n",
      "Epoch 243/300\n",
      "90/90 [==============================] - 0s 2ms/step - loss: 0.0012 - accuracy: 0.0000e+00 - val_loss: 0.0072 - val_accuracy: 0.0000e+00\n",
      "Epoch 244/300\n",
      "90/90 [==============================] - 0s 2ms/step - loss: 0.0013 - accuracy: 0.0000e+00 - val_loss: 0.0105 - val_accuracy: 0.0000e+00\n",
      "Epoch 245/300\n",
      "90/90 [==============================] - 0s 2ms/step - loss: 0.0012 - accuracy: 0.0000e+00 - val_loss: 0.0102 - val_accuracy: 0.0000e+00\n",
      "Epoch 246/300\n",
      "90/90 [==============================] - 0s 2ms/step - loss: 0.0013 - accuracy: 0.0000e+00 - val_loss: 0.0094 - val_accuracy: 0.0000e+00\n",
      "Epoch 247/300\n",
      "90/90 [==============================] - 0s 2ms/step - loss: 0.0013 - accuracy: 0.0000e+00 - val_loss: 0.0100 - val_accuracy: 0.0000e+00\n",
      "Epoch 248/300\n",
      "90/90 [==============================] - 0s 2ms/step - loss: 0.0011 - accuracy: 0.0000e+00 - val_loss: 0.0092 - val_accuracy: 0.0000e+00\n",
      "Epoch 249/300\n",
      "90/90 [==============================] - 0s 2ms/step - loss: 0.0012 - accuracy: 0.0000e+00 - val_loss: 0.0135 - val_accuracy: 0.0000e+00\n",
      "Epoch 250/300\n",
      "90/90 [==============================] - 0s 2ms/step - loss: 0.0011 - accuracy: 0.0000e+00 - val_loss: 0.0109 - val_accuracy: 0.0000e+00\n",
      "Epoch 251/300\n",
      "90/90 [==============================] - 0s 2ms/step - loss: 0.0012 - accuracy: 0.0000e+00 - val_loss: 0.0065 - val_accuracy: 0.0000e+00\n",
      "Epoch 252/300\n",
      "90/90 [==============================] - 0s 2ms/step - loss: 0.0012 - accuracy: 0.0000e+00 - val_loss: 0.0087 - val_accuracy: 0.0000e+00\n",
      "Epoch 253/300\n",
      "90/90 [==============================] - 0s 2ms/step - loss: 0.0012 - accuracy: 0.0000e+00 - val_loss: 0.0068 - val_accuracy: 0.0000e+00\n",
      "Epoch 254/300\n",
      "90/90 [==============================] - 0s 2ms/step - loss: 0.0012 - accuracy: 0.0000e+00 - val_loss: 0.0070 - val_accuracy: 0.0000e+00\n",
      "Epoch 255/300\n",
      "90/90 [==============================] - 0s 2ms/step - loss: 9.0594e-04 - accuracy: 0.0000e+00 - val_loss: 0.0136 - val_accuracy: 0.0000e+00\n",
      "Epoch 256/300\n",
      "90/90 [==============================] - 0s 2ms/step - loss: 0.0012 - accuracy: 0.0000e+00 - val_loss: 0.0133 - val_accuracy: 0.0000e+00\n",
      "Epoch 257/300\n",
      "90/90 [==============================] - 0s 2ms/step - loss: 0.0013 - accuracy: 0.0000e+00 - val_loss: 0.0101 - val_accuracy: 0.0000e+00\n",
      "Epoch 258/300\n",
      "90/90 [==============================] - 0s 2ms/step - loss: 0.0012 - accuracy: 0.0000e+00 - val_loss: 0.0113 - val_accuracy: 0.0000e+00\n",
      "Epoch 259/300\n",
      "90/90 [==============================] - 0s 2ms/step - loss: 0.0012 - accuracy: 0.0000e+00 - val_loss: 0.0093 - val_accuracy: 0.0000e+00\n",
      "Epoch 260/300\n",
      "90/90 [==============================] - 0s 2ms/step - loss: 0.0012 - accuracy: 0.0000e+00 - val_loss: 0.0067 - val_accuracy: 0.0000e+00\n",
      "Epoch 261/300\n",
      "90/90 [==============================] - 0s 2ms/step - loss: 0.0012 - accuracy: 0.0000e+00 - val_loss: 0.0100 - val_accuracy: 0.0000e+00\n",
      "Epoch 262/300\n",
      "90/90 [==============================] - 0s 2ms/step - loss: 0.0012 - accuracy: 0.0000e+00 - val_loss: 0.0110 - val_accuracy: 0.0000e+00\n",
      "Epoch 263/300\n",
      "90/90 [==============================] - 0s 2ms/step - loss: 0.0013 - accuracy: 0.0000e+00 - val_loss: 0.0105 - val_accuracy: 0.0000e+00\n",
      "Epoch 264/300\n",
      "90/90 [==============================] - 0s 2ms/step - loss: 0.0011 - accuracy: 0.0000e+00 - val_loss: 0.0096 - val_accuracy: 0.0000e+00\n",
      "Epoch 265/300\n",
      "90/90 [==============================] - 0s 2ms/step - loss: 0.0013 - accuracy: 0.0000e+00 - val_loss: 0.0080 - val_accuracy: 0.0000e+00\n",
      "Epoch 266/300\n",
      "90/90 [==============================] - 0s 2ms/step - loss: 0.0012 - accuracy: 0.0000e+00 - val_loss: 0.0082 - val_accuracy: 0.0000e+00\n",
      "Epoch 267/300\n",
      "90/90 [==============================] - 0s 2ms/step - loss: 0.0013 - accuracy: 0.0000e+00 - val_loss: 0.0128 - val_accuracy: 0.0000e+00\n",
      "Epoch 268/300\n",
      "90/90 [==============================] - 0s 2ms/step - loss: 0.0013 - accuracy: 0.0000e+00 - val_loss: 0.0111 - val_accuracy: 0.0000e+00\n",
      "Epoch 269/300\n",
      "90/90 [==============================] - 0s 2ms/step - loss: 0.0012 - accuracy: 0.0000e+00 - val_loss: 0.0092 - val_accuracy: 0.0000e+00\n",
      "Epoch 270/300\n",
      "90/90 [==============================] - 0s 2ms/step - loss: 0.0012 - accuracy: 0.0000e+00 - val_loss: 0.0089 - val_accuracy: 0.0000e+00\n",
      "Epoch 271/300\n",
      "90/90 [==============================] - 0s 2ms/step - loss: 0.0012 - accuracy: 0.0000e+00 - val_loss: 0.0089 - val_accuracy: 0.0000e+00\n",
      "Epoch 272/300\n"
     ]
    },
    {
     "name": "stdout",
     "output_type": "stream",
     "text": [
      "90/90 [==============================] - 0s 2ms/step - loss: 0.0012 - accuracy: 0.0000e+00 - val_loss: 0.0059 - val_accuracy: 0.0000e+00\n",
      "Epoch 273/300\n",
      "90/90 [==============================] - 0s 2ms/step - loss: 0.0013 - accuracy: 0.0000e+00 - val_loss: 0.0114 - val_accuracy: 0.0000e+00\n",
      "Epoch 274/300\n",
      "90/90 [==============================] - 0s 2ms/step - loss: 0.0011 - accuracy: 0.0000e+00 - val_loss: 0.0070 - val_accuracy: 0.0000e+00\n",
      "Epoch 275/300\n",
      "90/90 [==============================] - 0s 2ms/step - loss: 0.0011 - accuracy: 0.0000e+00 - val_loss: 0.0070 - val_accuracy: 0.0000e+00\n",
      "Epoch 276/300\n",
      "90/90 [==============================] - 0s 2ms/step - loss: 0.0013 - accuracy: 0.0000e+00 - val_loss: 0.0081 - val_accuracy: 0.0000e+00\n",
      "Epoch 277/300\n",
      "90/90 [==============================] - 0s 2ms/step - loss: 0.0011 - accuracy: 0.0000e+00 - val_loss: 0.0072 - val_accuracy: 0.0000e+00\n",
      "Epoch 278/300\n",
      "90/90 [==============================] - 0s 2ms/step - loss: 0.0011 - accuracy: 0.0000e+00 - val_loss: 0.0105 - val_accuracy: 0.0000e+00\n",
      "Epoch 279/300\n",
      "90/90 [==============================] - 0s 2ms/step - loss: 0.0012 - accuracy: 0.0000e+00 - val_loss: 0.0111 - val_accuracy: 0.0000e+00\n",
      "Epoch 280/300\n",
      "90/90 [==============================] - 0s 2ms/step - loss: 0.0012 - accuracy: 0.0000e+00 - val_loss: 0.0073 - val_accuracy: 0.0000e+00\n",
      "Epoch 281/300\n",
      "90/90 [==============================] - 0s 2ms/step - loss: 0.0012 - accuracy: 0.0000e+00 - val_loss: 0.0088 - val_accuracy: 0.0000e+00\n",
      "Epoch 282/300\n",
      "90/90 [==============================] - 0s 2ms/step - loss: 0.0012 - accuracy: 0.0000e+00 - val_loss: 0.0064 - val_accuracy: 0.0000e+00\n",
      "Epoch 283/300\n",
      "90/90 [==============================] - 0s 2ms/step - loss: 0.0013 - accuracy: 0.0000e+00 - val_loss: 0.0066 - val_accuracy: 0.0000e+00\n",
      "Epoch 284/300\n",
      "90/90 [==============================] - 0s 2ms/step - loss: 0.0012 - accuracy: 0.0000e+00 - val_loss: 0.0089 - val_accuracy: 0.0000e+00\n",
      "Epoch 285/300\n",
      "90/90 [==============================] - 0s 2ms/step - loss: 0.0013 - accuracy: 0.0000e+00 - val_loss: 0.0073 - val_accuracy: 0.0000e+00\n",
      "Epoch 286/300\n",
      "90/90 [==============================] - 0s 2ms/step - loss: 0.0012 - accuracy: 0.0000e+00 - val_loss: 0.0061 - val_accuracy: 0.0000e+00\n",
      "Epoch 287/300\n",
      "90/90 [==============================] - 0s 2ms/step - loss: 0.0013 - accuracy: 0.0000e+00 - val_loss: 0.0079 - val_accuracy: 0.0000e+00\n",
      "Epoch 288/300\n",
      "90/90 [==============================] - 0s 2ms/step - loss: 0.0012 - accuracy: 0.0000e+00 - val_loss: 0.0073 - val_accuracy: 0.0000e+00\n",
      "Epoch 289/300\n",
      "90/90 [==============================] - 0s 2ms/step - loss: 0.0012 - accuracy: 0.0000e+00 - val_loss: 0.0104 - val_accuracy: 0.0000e+00\n",
      "Epoch 290/300\n",
      "90/90 [==============================] - 0s 2ms/step - loss: 0.0011 - accuracy: 0.0000e+00 - val_loss: 0.0124 - val_accuracy: 0.0000e+00\n",
      "Epoch 291/300\n",
      "90/90 [==============================] - 0s 2ms/step - loss: 0.0011 - accuracy: 0.0000e+00 - val_loss: 0.0073 - val_accuracy: 0.0000e+00\n",
      "Epoch 292/300\n",
      "90/90 [==============================] - 0s 2ms/step - loss: 0.0012 - accuracy: 0.0000e+00 - val_loss: 0.0117 - val_accuracy: 0.0000e+00\n",
      "Epoch 293/300\n",
      "90/90 [==============================] - 0s 2ms/step - loss: 0.0012 - accuracy: 0.0000e+00 - val_loss: 0.0073 - val_accuracy: 0.0000e+00\n",
      "Epoch 294/300\n",
      "90/90 [==============================] - 0s 2ms/step - loss: 0.0013 - accuracy: 0.0000e+00 - val_loss: 0.0099 - val_accuracy: 0.0000e+00\n",
      "Epoch 295/300\n",
      "90/90 [==============================] - 0s 2ms/step - loss: 0.0010 - accuracy: 0.0000e+00 - val_loss: 0.0099 - val_accuracy: 0.0000e+00\n",
      "Epoch 296/300\n",
      "90/90 [==============================] - 0s 2ms/step - loss: 0.0013 - accuracy: 0.0000e+00 - val_loss: 0.0099 - val_accuracy: 0.0000e+00\n",
      "Epoch 297/300\n",
      "90/90 [==============================] - 0s 2ms/step - loss: 0.0013 - accuracy: 0.0000e+00 - val_loss: 0.0091 - val_accuracy: 0.0000e+00\n",
      "Epoch 298/300\n",
      "90/90 [==============================] - 0s 2ms/step - loss: 0.0013 - accuracy: 0.0000e+00 - val_loss: 0.0068 - val_accuracy: 0.0000e+00\n",
      "Epoch 299/300\n",
      "90/90 [==============================] - 0s 2ms/step - loss: 9.9519e-04 - accuracy: 0.0000e+00 - val_loss: 0.0139 - val_accuracy: 0.0000e+00\n",
      "Epoch 300/300\n",
      "90/90 [==============================] - 0s 2ms/step - loss: 0.0013 - accuracy: 0.0000e+00 - val_loss: 0.0097 - val_accuracy: 0.0000e+00\n"
     ]
    },
    {
     "data": {
      "text/plain": [
       "[<matplotlib.lines.Line2D at 0x14ceaa110>]"
      ]
     },
     "execution_count": 35,
     "metadata": {},
     "output_type": "execute_result"
    },
    {
     "data": {
      "image/png": "[encoded data removed]",
      "text/plain": [
       "<Figure size 432x288 with 1 Axes>"
      ]
     },
     "metadata": {
      "needs_background": "light"
     },
     "output_type": "display_data"
    }
   ],
   "source": [
    "#Обучение\n",
    "\n",
    "ep=300\n",
    "\n",
    "model.fit(\n",
    "    x=x_train_masked,\n",
    "    y=y_train,\n",
    "    batch_size=1,\n",
    "    epochs=ep,\n",
    "    validation_data=(x_test_masked,y_test),\n",
    ")\n",
    "\n",
    "y=model.predict(x_test_masked)\n",
    "\n",
    "plt.plot(y_test)\n",
    "plt.plot(y)"
   ]
  },
  {
   "cell_type": "code",
   "execution_count": 36,
   "metadata": {},
   "outputs": [
    {
     "data": {
      "text/plain": [
       "[<matplotlib.lines.Line2D at 0x14d00d210>]"
      ]
     },
     "execution_count": 36,
     "metadata": {},
     "output_type": "execute_result"
    },
    {
     "data": {
      "image/png": "[encoded data removed]",
      "text/plain": [
       "<Figure size 432x288 with 1 Axes>"
      ]
     },
     "metadata": {
      "needs_background": "light"
     },
     "output_type": "display_data"
    }
   ],
   "source": [
    "y=model.predict(x_all_masked)\n",
    "\n",
    "plt.plot(y_train)\n",
    "plt.plot(y)"
   ]
  },
  {
   "cell_type": "markdown",
   "metadata": {},
   "source": [
    "## Задача 2. Прогнозирование уровня воды в Венеции\n",
    "\n",
    "источник данных: https://www.kaggle.com/lbronchal/venezia"
   ]
  },
  {
   "cell_type": "code",
   "execution_count": 38,
   "metadata": {},
   "outputs": [
    {
     "data": {
      "text/html": [
       "<div>\n",
       "<style scoped>\n",
       "    .dataframe tbody tr th:only-of-type {\n",
       "        vertical-align: middle;\n",
       "    }\n",
       "\n",
       "    .dataframe tbody tr th {\n",
       "        vertical-align: top;\n",
       "    }\n",
       "\n",
       "    .dataframe thead th {\n",
       "        text-align: right;\n",
       "    }\n",
       "</style>\n",
       "<table border=\"1\" class=\"dataframe\">\n",
       "  <thead>\n",
       "    <tr style=\"text-align: right;\">\n",
       "      <th></th>\n",
       "      <th>Index</th>\n",
       "      <th>Date</th>\n",
       "      <th>Value</th>\n",
       "    </tr>\n",
       "  </thead>\n",
       "  <tbody>\n",
       "    <tr>\n",
       "      <th>0</th>\n",
       "      <td>0</td>\n",
       "      <td>1983-01-01 01:00:00</td>\n",
       "      <td>6.333333</td>\n",
       "    </tr>\n",
       "    <tr>\n",
       "      <th>1</th>\n",
       "      <td>1</td>\n",
       "      <td>1983-01-02 01:00:00</td>\n",
       "      <td>8.208333</td>\n",
       "    </tr>\n",
       "    <tr>\n",
       "      <th>2</th>\n",
       "      <td>2</td>\n",
       "      <td>1983-01-03 01:00:00</td>\n",
       "      <td>6.458333</td>\n",
       "    </tr>\n",
       "    <tr>\n",
       "      <th>3</th>\n",
       "      <td>3</td>\n",
       "      <td>1983-01-04 01:00:00</td>\n",
       "      <td>7.666667</td>\n",
       "    </tr>\n",
       "    <tr>\n",
       "      <th>4</th>\n",
       "      <td>4</td>\n",
       "      <td>1983-01-05 01:00:00</td>\n",
       "      <td>7.958333</td>\n",
       "    </tr>\n",
       "    <tr>\n",
       "      <th>...</th>\n",
       "      <td>...</td>\n",
       "      <td>...</td>\n",
       "      <td>...</td>\n",
       "    </tr>\n",
       "    <tr>\n",
       "      <th>12048</th>\n",
       "      <td>12048</td>\n",
       "      <td>2015-12-27 01:00:00</td>\n",
       "      <td>7.291667</td>\n",
       "    </tr>\n",
       "    <tr>\n",
       "      <th>12049</th>\n",
       "      <td>12049</td>\n",
       "      <td>2015-12-28 01:00:00</td>\n",
       "      <td>4.541667</td>\n",
       "    </tr>\n",
       "    <tr>\n",
       "      <th>12050</th>\n",
       "      <td>12050</td>\n",
       "      <td>2015-12-29 01:00:00</td>\n",
       "      <td>3.625000</td>\n",
       "    </tr>\n",
       "    <tr>\n",
       "      <th>12051</th>\n",
       "      <td>12051</td>\n",
       "      <td>2015-12-30 01:00:00</td>\n",
       "      <td>12.250000</td>\n",
       "    </tr>\n",
       "    <tr>\n",
       "      <th>12052</th>\n",
       "      <td>12052</td>\n",
       "      <td>2015-12-31 01:00:00</td>\n",
       "      <td>12.583333</td>\n",
       "    </tr>\n",
       "  </tbody>\n",
       "</table>\n",
       "<p>12053 rows × 3 columns</p>\n",
       "</div>"
      ],
      "text/plain": [
       "       Index                 Date      Value\n",
       "0          0  1983-01-01 01:00:00   6.333333\n",
       "1          1  1983-01-02 01:00:00   8.208333\n",
       "2          2  1983-01-03 01:00:00   6.458333\n",
       "3          3  1983-01-04 01:00:00   7.666667\n",
       "4          4  1983-01-05 01:00:00   7.958333\n",
       "...      ...                  ...        ...\n",
       "12048  12048  2015-12-27 01:00:00   7.291667\n",
       "12049  12049  2015-12-28 01:00:00   4.541667\n",
       "12050  12050  2015-12-29 01:00:00   3.625000\n",
       "12051  12051  2015-12-30 01:00:00  12.250000\n",
       "12052  12052  2015-12-31 01:00:00  12.583333\n",
       "\n",
       "[12053 rows x 3 columns]"
      ]
     },
     "execution_count": 38,
     "metadata": {},
     "output_type": "execute_result"
    }
   ],
   "source": [
    "data=pd.read_csv(\"venezia_mean.csv\", delimiter=\";\")\n",
    "data"
   ]
  },
  {
   "cell_type": "code",
   "execution_count": 42,
   "metadata": {},
   "outputs": [
    {
     "data": {
      "text/plain": [
       "-0.2579349136199277"
      ]
     },
     "execution_count": 42,
     "metadata": {},
     "output_type": "execute_result"
    }
   ],
   "source": [
    "x_all=data[\"Value\"].values\n",
    "x_all=x_all/max(x_all)\n",
    "max(x_all)"
   ]
  },
  {
   "cell_type": "code",
   "execution_count": 45,
   "metadata": {},
   "outputs": [
    {
     "data": {
      "text/plain": [
       "[<matplotlib.lines.Line2D at 0x134e3ec90>]"
      ]
     },
     "execution_count": 45,
     "metadata": {},
     "output_type": "execute_result"
    },
    {
     "data": {
      "image/png": "[encoded data removed]",
      "text/plain": [
       "<Figure size 432x288 with 1 Axes>"
      ]
     },
     "metadata": {
      "needs_background": "light"
     },
     "output_type": "display_data"
    }
   ],
   "source": [
    "plt.plot(x_all)"
   ]
  },
  {
   "cell_type": "code",
   "execution_count": 46,
   "metadata": {},
   "outputs": [],
   "source": [
    "train=x_all[:10000]\n",
    "test=x_all[10000:]"
   ]
  },
  {
   "cell_type": "code",
   "execution_count": 47,
   "metadata": {},
   "outputs": [
    {
     "data": {
      "text/plain": [
       "((9990, 10), (2043, 10))"
      ]
     },
     "execution_count": 47,
     "metadata": {},
     "output_type": "execute_result"
    }
   ],
   "source": [
    "m = 10\n",
    "lst_inputs = []\n",
    "# по размерности среза формируем инпуты\n",
    "for i in range(train.shape[0]-m):\n",
    "    lst_inputs.append(train[i:m+i])\n",
    "\n",
    "x_train = np.array(lst_inputs) \n",
    "    \n",
    "lst_test_inputs = []\n",
    "# так же формируются тесты с срезами\n",
    "for i in range(test.shape[0]-m):\n",
    "    lst_test_inputs.append(test[i:m+i])\n",
    "x_test = np.array(lst_test_inputs)\n",
    "\n",
    "y_train=train[m:train.shape[0]]\n",
    "y_test=test[m:test.shape[0]]\n",
    "\n",
    "x_train.shape, x_test.shape"
   ]
  },
  {
   "cell_type": "code",
   "execution_count": 48,
   "metadata": {},
   "outputs": [
    {
     "data": {
      "text/plain": [
       "TensorShape([9990, 1, 10])"
      ]
     },
     "execution_count": 48,
     "metadata": {},
     "output_type": "execute_result"
    }
   ],
   "source": [
    "import tensorflow as tf\n",
    "\n",
    "masking_layer = layers.Masking()\n",
    "unmasked_embedding = tf.cast(\n",
    "    tf.tile(tf.expand_dims(x_train, axis=1), [1, 1, 1]),\n",
    "    tf.float32)\n",
    "\n",
    "x_train_masked = masking_layer(unmasked_embedding)\n",
    "\n",
    "masking_layer = layers.Masking()\n",
    "unmasked_embedding = tf.cast(\n",
    "    tf.tile(tf.expand_dims(x_test, axis=1), [1, 1, 1]),\n",
    "    tf.float32)\n",
    "\n",
    "x_test_masked = masking_layer(unmasked_embedding)\n",
    "\n",
    "x_train_masked.shape"
   ]
  },
  {
   "cell_type": "code",
   "execution_count": 104,
   "metadata": {},
   "outputs": [],
   "source": [
    "from keras.utils.generic_utils import get_custom_objects\n",
    "from keras.layers import Activation\n",
    "from keras import backend as K\n",
    "\n",
    "def arelu(x):\n",
    "    return K.relu(x)*2\n",
    "\n",
    "get_custom_objects().update({'custom_activation': Activation(custom_activation)})"
   ]
  },
  {
   "cell_type": "code",
   "execution_count": 111,
   "metadata": {},
   "outputs": [
    {
     "name": "stdout",
     "output_type": "stream",
     "text": [
      "Model: \"RNN\"\n",
      "_________________________________________________________________\n",
      "Layer (type)                 Output Shape              Param #   \n",
      "=================================================================\n",
      "simple_rnn_24 (SimpleRNN)    (None, 10)                210       \n",
      "_________________________________________________________________\n",
      "dense_38 (Dense)             (None, 21)                231       \n",
      "_________________________________________________________________\n",
      "dense_39 (Dense)             (None, 1)                 22        \n",
      "=================================================================\n",
      "Total params: 463\n",
      "Trainable params: 463\n",
      "Non-trainable params: 0\n",
      "_________________________________________________________________\n"
     ]
    }
   ],
   "source": [
    "#Модель\n",
    "\n",
    "model=keras.Sequential(name=\"RNN\")\n",
    "model.add(layers.SimpleRNN(m, activation=\"tanh\", input_dim=m))\n",
    "model.add(layers.Dense(2*m+1, activation=arelu))\n",
    "model.add(layers.Dense(1, activation=tf.nn.leaky_relu))\n",
    "\n",
    "model.summary()"
   ]
  },
  {
   "cell_type": "code",
   "execution_count": 112,
   "metadata": {},
   "outputs": [],
   "source": [
    "from keras import optimizers\n",
    "from keras import losses\n",
    "from keras import metrics\n",
    "\n",
    "model.compile(\n",
    "    optimizer=optimizers.SGD(learning_rate=0.7),\n",
    "    loss=losses.MeanSquaredError(),\n",
    "    metrics=metrics.Accuracy(),\n",
    ")"
   ]
  },
  {
   "cell_type": "code",
   "execution_count": 113,
   "metadata": {},
   "outputs": [
    {
     "name": "stdout",
     "output_type": "stream",
     "text": [
      "Epoch 1/30\n",
      "999/999 [==============================] - 2s 2ms/step - loss: 0.0192 - accuracy: 0.0000e+00 - val_loss: 0.0094 - val_accuracy: 0.0000e+00\n",
      "Epoch 2/30\n",
      "999/999 [==============================] - 1s 1ms/step - loss: 0.0129 - accuracy: 0.0000e+00 - val_loss: 0.0149 - val_accuracy: 0.0000e+00\n",
      "Epoch 3/30\n",
      "999/999 [==============================] - 1s 1ms/step - loss: 0.0108 - accuracy: 0.0000e+00 - val_loss: 0.0149 - val_accuracy: 0.0000e+00\n",
      "Epoch 4/30\n",
      "999/999 [==============================] - 1s 1ms/step - loss: 0.0119 - accuracy: 0.0000e+00 - val_loss: 0.0075 - val_accuracy: 0.0000e+00\n",
      "Epoch 5/30\n",
      "999/999 [==============================] - 1s 1ms/step - loss: 0.0069 - accuracy: 0.0000e+00 - val_loss: 0.0108 - val_accuracy: 0.0000e+00\n",
      "Epoch 6/30\n",
      "999/999 [==============================] - 1s 1ms/step - loss: 0.0063 - accuracy: 0.0000e+00 - val_loss: 0.0093 - val_accuracy: 0.0000e+00\n",
      "Epoch 7/30\n",
      "999/999 [==============================] - 1s 1ms/step - loss: 0.0063 - accuracy: 0.0000e+00 - val_loss: 0.0090 - val_accuracy: 0.0000e+00\n",
      "Epoch 8/30\n",
      "999/999 [==============================] - 1s 1ms/step - loss: 0.0062 - accuracy: 0.0000e+00 - val_loss: 0.0047 - val_accuracy: 0.0000e+00\n",
      "Epoch 9/30\n",
      "999/999 [==============================] - 1s 1ms/step - loss: 0.0059 - accuracy: 0.0000e+00 - val_loss: 0.0038 - val_accuracy: 0.0000e+00\n",
      "Epoch 10/30\n",
      "999/999 [==============================] - 1s 1ms/step - loss: 0.0060 - accuracy: 0.0000e+00 - val_loss: 0.0045 - val_accuracy: 0.0000e+00\n",
      "Epoch 11/30\n",
      "999/999 [==============================] - 1s 1ms/step - loss: 0.0057 - accuracy: 0.0000e+00 - val_loss: 0.0040 - val_accuracy: 0.0000e+00\n",
      "Epoch 12/30\n",
      "999/999 [==============================] - 1s 1ms/step - loss: 0.0055 - accuracy: 0.0000e+00 - val_loss: 0.0039 - val_accuracy: 0.0000e+00\n",
      "Epoch 13/30\n",
      "999/999 [==============================] - 2s 2ms/step - loss: 0.0059 - accuracy: 0.0000e+00 - val_loss: 0.0050 - val_accuracy: 0.0000e+00\n",
      "Epoch 14/30\n",
      "999/999 [==============================] - 1s 1ms/step - loss: 0.0060 - accuracy: 0.0000e+00 - val_loss: 0.0042 - val_accuracy: 0.0000e+00\n",
      "Epoch 15/30\n",
      "999/999 [==============================] - 1s 1ms/step - loss: 0.0056 - accuracy: 0.0000e+00 - val_loss: 0.0041 - val_accuracy: 0.0000e+00\n",
      "Epoch 16/30\n",
      "999/999 [==============================] - 1s 1ms/step - loss: 0.0056 - accuracy: 0.0000e+00 - val_loss: 0.0047 - val_accuracy: 0.0000e+00\n",
      "Epoch 17/30\n",
      "999/999 [==============================] - 1s 1ms/step - loss: 0.0057 - accuracy: 0.0000e+00 - val_loss: 0.0073 - val_accuracy: 0.0000e+00\n",
      "Epoch 18/30\n",
      "999/999 [==============================] - 1s 1ms/step - loss: 0.0058 - accuracy: 0.0000e+00 - val_loss: 0.0072 - val_accuracy: 0.0000e+00\n",
      "Epoch 19/30\n",
      "999/999 [==============================] - 1s 1ms/step - loss: 0.0057 - accuracy: 0.0000e+00 - val_loss: 0.0037 - val_accuracy: 0.0000e+00\n",
      "Epoch 20/30\n",
      "999/999 [==============================] - 1s 1ms/step - loss: 0.0055 - accuracy: 0.0000e+00 - val_loss: 0.0051 - val_accuracy: 0.0000e+00\n",
      "Epoch 21/30\n",
      "999/999 [==============================] - 1s 1ms/step - loss: 0.0059 - accuracy: 0.0000e+00 - val_loss: 0.0072 - val_accuracy: 0.0000e+00\n",
      "Epoch 22/30\n",
      "999/999 [==============================] - 1s 1ms/step - loss: 0.0060 - accuracy: 0.0000e+00 - val_loss: 0.0043 - val_accuracy: 0.0000e+00\n",
      "Epoch 23/30\n",
      "999/999 [==============================] - 1s 1ms/step - loss: 0.0057 - accuracy: 0.0000e+00 - val_loss: 0.0317 - val_accuracy: 0.0000e+00\n",
      "Epoch 24/30\n",
      "999/999 [==============================] - 1s 1ms/step - loss: 0.0056 - accuracy: 0.0000e+00 - val_loss: 0.0046 - val_accuracy: 0.0000e+00\n",
      "Epoch 25/30\n",
      "999/999 [==============================] - 1s 1ms/step - loss: 0.0055 - accuracy: 0.0000e+00 - val_loss: 0.0038 - val_accuracy: 0.0000e+00\n",
      "Epoch 26/30\n",
      "999/999 [==============================] - 2s 2ms/step - loss: 0.0054 - accuracy: 0.0000e+00 - val_loss: 0.0047 - val_accuracy: 0.0000e+00\n",
      "Epoch 27/30\n",
      "999/999 [==============================] - 1s 1ms/step - loss: 0.0056 - accuracy: 0.0000e+00 - val_loss: 0.0073 - val_accuracy: 0.0000e+00\n",
      "Epoch 28/30\n",
      "999/999 [==============================] - 1s 1ms/step - loss: 0.0058 - accuracy: 0.0000e+00 - val_loss: 0.0041 - val_accuracy: 0.0000e+00\n",
      "Epoch 29/30\n",
      "999/999 [==============================] - 2s 2ms/step - loss: 0.0051 - accuracy: 0.0000e+00 - val_loss: 0.0074 - val_accuracy: 0.0000e+00\n",
      "Epoch 30/30\n",
      "999/999 [==============================] - 1s 1ms/step - loss: 0.0054 - accuracy: 0.0000e+00 - val_loss: 0.0051 - val_accuracy: 0.0000e+00\n"
     ]
    },
    {
     "data": {
      "text/plain": [
       "[<matplotlib.lines.Line2D at 0x1511037d0>]"
      ]
     },
     "execution_count": 113,
     "metadata": {},
     "output_type": "execute_result"
    },
    {
     "data": {
      "image/png": "[encoded data removed]",
      "text/plain": [
       "<Figure size 432x288 with 1 Axes>"
      ]
     },
     "metadata": {
      "needs_background": "light"
     },
     "output_type": "display_data"
    }
   ],
   "source": [
    "#Обучение\n",
    "\n",
    "ep=30\n",
    "\n",
    "model.fit(\n",
    "    x=x_train_masked,\n",
    "    y=y_train,\n",
    "    batch_size=10,\n",
    "    epochs=ep,\n",
    "    validation_data=(x_test_masked,y_test),\n",
    ")\n",
    "\n",
    "y=model.predict(x_test_masked)\n",
    "\n",
    "plt.plot(y_test)\n",
    "plt.plot(y)"
   ]
  },
  {
   "cell_type": "code",
   "execution_count": 114,
   "metadata": {},
   "outputs": [
    {
     "data": {
      "text/plain": [
       "[<matplotlib.lines.Line2D at 0x151272c90>]"
      ]
     },
     "execution_count": 114,
     "metadata": {},
     "output_type": "execute_result"
    },
    {
     "data": {
      "image/png": "[encoded data removed]",
      "text/plain": [
       "<Figure size 432x288 with 1 Axes>"
      ]
     },
     "metadata": {
      "needs_background": "light"
     },
     "output_type": "display_data"
    }
   ],
   "source": [
    "y=model.predict(x_train_masked)\n",
    "\n",
    "plt.plot(y_train)\n",
    "plt.plot(y)"
   ]
  },
  {
   "cell_type": "code",
   "execution_count": 116,
   "metadata": {},
   "outputs": [
    {
     "data": {
      "text/plain": [
       "[<matplotlib.lines.Line2D at 0x151618210>]"
      ]
     },
     "execution_count": 116,
     "metadata": {},
     "output_type": "execute_result"
    },
    {
     "data": {
      "image/png": "[encoded data removed]",
      "text/plain": [
       "<Figure size 432x288 with 1 Axes>"
      ]
     },
     "metadata": {
      "needs_background": "light"
     },
     "output_type": "display_data"
    }
   ],
   "source": [
    "y=model.predict(x_test_masked)\n",
    "\n",
    "plt.plot(y_test[1900:2000])\n",
    "plt.plot(y[1900:2000])"
   ]
  },
  {
   "cell_type": "code",
   "execution_count": 117,
   "metadata": {},
   "outputs": [
    {
     "name": "stdout",
     "output_type": "stream",
     "text": [
      "64/64 [==============================] - 0s 1ms/step - loss: 0.0000e+00 - accuracy: 0.0000e+00\n"
     ]
    },
    {
     "data": {
      "text/plain": [
       "[0.0, 0.0]"
      ]
     },
     "execution_count": 117,
     "metadata": {},
     "output_type": "execute_result"
    }
   ],
   "source": [
    "model.evaluate(x_test_masked)"
   ]
  },
  {
   "cell_type": "code",
   "execution_count": null,
   "metadata": {},
   "outputs": [],
   "source": []
  }
 ],
 "metadata": {
  "kernelspec": {
   "display_name": "Python 3",
   "language": "python",
   "name": "python3"
  },
  "language_info": {
   "codemirror_mode": {
    "name": "ipython",
    "version": 3
   },
   "file_extension": ".py",
   "mimetype": "text/x-python",
   "name": "python",
   "nbconvert_exporter": "python",
   "pygments_lexer": "ipython3",
   "version": "3.7.7"
  }
 },
 "nbformat": 4,
 "nbformat_minor": 4
}
